{
 "cells": [
  {
   "cell_type": "code",
   "execution_count": 7,
   "metadata": {},
   "outputs": [],
   "source": [
    "def is_palindrome(param):\n",
    "    rev_param = param[::-1]\n",
    "    \n",
    "    if param == rev_param:\n",
    "        return True\n",
    "    else:\n",
    "        return False\n",
    "    \n",
    "    "
   ]
  },
  {
   "cell_type": "code",
   "execution_count": 10,
   "metadata": {},
   "outputs": [
    {
     "name": "stdout",
     "output_type": "stream",
     "text": [
      "True\n"
     ]
    }
   ],
   "source": [
    "print is_palindrome('radar')"
   ]
  },
  {
   "cell_type": "code",
   "execution_count": 11,
   "metadata": {},
   "outputs": [],
   "source": [
    "key = {'a':'n', 'b':'o', 'c':'p', 'd':'q', 'e':'r', 'f':'s', 'g':'t', 'h':'u', \n",
    "       'i':'v', 'j':'w', 'k':'x', 'l':'y', 'm':'z', 'n':'a', 'o':'b', 'p':'c', \n",
    "       'q':'d', 'r':'e', 's':'f', 't':'g', 'u':'h', 'v':'i', 'w':'j', 'x':'k',\n",
    "       'y':'l', 'z':'m', 'A':'N', 'B':'O', 'C':'P', 'D':'Q', 'E':'R', 'F':'S', \n",
    "       'G':'T', 'H':'U', 'I':'V', 'J':'W', 'K':'X', 'L':'Y', 'M':'Z', 'N':'A', \n",
    "       'O':'B', 'P':'C', 'Q':'D', 'R':'E', 'S':'F', 'T':'G', 'U':'H', 'V':'I', \n",
    "       'W':'J', 'X':'K', 'Y':'L', 'Z':'M'}\n"
   ]
  },
  {
   "cell_type": "code",
   "execution_count": 12,
   "metadata": {},
   "outputs": [],
   "source": [
    "from string import maketrans\n",
    "\n",
    "def rot13Encoder(param):\n",
    "    lowCaseOri = 'abcdefghijklmnopqrstuvwxyz'\n",
    "    lowCaseEncypt = 'nopqrstuvwxyzabcdefghijklm'\n",
    "    upCaseOri = 'ABCDEFGHIJKLMNOPQRSTUVWXYZ'\n",
    "    upCaseEncrypt = 'NOPQRSTUVWXYZABCDEFGHIJKLM'\n",
    "    \n",
    "    encryptLow = maketrans(lowCaseOri, lowCaseEncypt)\n",
    "    encryptUp = maketrans(upCaseOri, upCaseEncrypt)\n",
    "    \n",
    "    print param.translate(encryptLow).translate(encryptUp)"
   ]
  },
  {
   "cell_type": "code",
   "execution_count": 23,
   "metadata": {},
   "outputs": [
    {
     "name": "stdout",
     "output_type": "stream",
     "text": [
      "nOpQr?\n"
     ]
    }
   ],
   "source": [
    "rot13Encoder('aBcDe')"
   ]
  },
  {
   "cell_type": "code",
   "execution_count": 18,
   "metadata": {},
   "outputs": [],
   "source": [
    "def rot13Decoder(param):\n",
    "    lowCaseOri = 'nopqrstuvwxyzabcdefghijklm!?'\n",
    "    lowCaseEncypt = 'abcdefghijklmnopqrstuvwxyz!?'\n",
    "    upCaseOri = 'NOPQRSTUVWXYZABCDEFGHIJKLM!?'\n",
    "    upCaseEncrypt = 'ABCDEFGHIJKLMNOPQRSTUVWXYZ!?'\n",
    "    \n",
    "    encryptLow = maketrans(lowCaseOri, lowCaseEncypt)\n",
    "    encryptUp = maketrans(upCaseOri, upCaseEncrypt)\n",
    "    \n",
    "    print param.translate(encryptLow).translate(encryptUp)"
   ]
  },
  {
   "cell_type": "code",
   "execution_count": 24,
   "metadata": {},
   "outputs": [
    {
     "name": "stdout",
     "output_type": "stream",
     "text": [
      "Caesar cipher? I much prefer Caesar salad!\n"
     ]
    }
   ],
   "source": [
    "rot13Decoder('Pnrfne pvcure? V zhpu cersre Pnrfne fnynq!')"
   ]
  },
  {
   "cell_type": "code",
   "execution_count": null,
   "metadata": {},
   "outputs": [],
   "source": [
    "#helper function to load data into files.\n",
    "def _loadData():\n",
    "    import numpy as np\n",
    "    ids=list()   #This will indicate the unique id of the sample.\n",
    "    clump_thickness=list()  #This property is a number between 1 - 10\n",
    "    single_epithelial_cell_size=list() #long variable names are usually bad practice but this has been done to make things clear.\n",
    "    target_class=list()   #This depicts whether the tumor is benign (class = 2) or malignant (class = 4). \n",
    "    seen=set()\n",
    "    \n",
    "    with open(\"data.csv\") as f:\n",
    "        for idx,line in enumerate(f):\n",
    "            if idx==0:\n",
    "                continue   #we ignore the first line as it's just the header, so we just `continue` which goes to the next line in the file.\n",
    "            \n",
    "            else:\n",
    "                _id,_ct,_secs,_cl=line.strip().split(\",\")  #we are using the strip() function to remove any leading and trailing whitespace.\n",
    "                seen.add(_id)\n",
    "                ids.append(_id)   \n",
    "                clump_thickness.append(int(_ct)) #notice the int() in the append function, this is done to \"cast\" the string values which is how the numbers are read from the file, to integers\n",
    "                single_epithelial_cell_size.append(int(_secs))\n",
    "                target_class.append(int(_cl))\n",
    "    \n",
    "    return np.array(ids),np.array(clump_thickness),np.array(single_epithelial_cell_size),np.array(target_class)\n",
    "\n",
    "\"\"\"\n",
    "1. The _loadData() function returns 4 numpy arrays (unlike java, python can return multiple values, \n",
    "here we are returning 4 arrays).\n",
    "\n",
    "2. The unique sample ids are stored in the `ids` array, \n",
    "3. The clump thickness is stored in the `clump_thickness` array\n",
    "4. The single epithelial cell size feature is stored in the `single_ep_cell_size` array and \n",
    "5. The class label for each sample whether `malignant` or `benign` is stored in the `benign_or_malignant` array.\n",
    "\n",
    "\"\"\"\n",
    "\n",
    "ids,clump_thickness,single_ep_cell_size,benign_or_malignant=_loadData()   #this is how you invoke the helper function.\n"
   ]
  },
  {
   "cell_type": "code",
   "execution_count": null,
   "metadata": {},
   "outputs": [],
   "source": [
    "#import libararies here.\n",
    "%matplotlib inline    \n",
    "import numpy as np\n",
    "import matplotlib.pyplot as plt   \n",
    "from sklearn import datasets \n",
    "import seaborn as sns   \n",
    "sns.set()"
   ]
  },
  {
   "cell_type": "markdown",
   "metadata": {},
   "source": []
  }
 ],
 "metadata": {
  "kernelspec": {
   "display_name": "Python 2",
   "language": "python",
   "name": "python2"
  },
  "language_info": {
   "codemirror_mode": {
    "name": "ipython",
    "version": 2
   },
   "file_extension": ".py",
   "mimetype": "text/x-python",
   "name": "python",
   "nbconvert_exporter": "python",
   "pygments_lexer": "ipython2",
   "version": "2.7.15"
  }
 },
 "nbformat": 4,
 "nbformat_minor": 2
}
