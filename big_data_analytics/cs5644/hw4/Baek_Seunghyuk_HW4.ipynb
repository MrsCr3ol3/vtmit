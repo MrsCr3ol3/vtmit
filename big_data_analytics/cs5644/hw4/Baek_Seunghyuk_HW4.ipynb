{
 "cells": [
  {
   "cell_type": "code",
   "execution_count": 1,
   "metadata": {},
   "outputs": [],
   "source": [
    "import sklearn\n",
    "import sklearn.tree\n",
    "import numpy as np\n",
    "from io import StringIO\n",
    "from sklearn.neural_network import MLPClassifier\n",
    "import warnings\n",
    "warnings.filterwarnings('ignore')"
   ]
  },
  {
   "cell_type": "code",
   "execution_count": 2,
   "metadata": {},
   "outputs": [],
   "source": [
    "file = open('OnlineNewsPopularity.csv','r')"
   ]
  },
  {
   "cell_type": "code",
   "execution_count": 3,
   "metadata": {},
   "outputs": [],
   "source": [
    "filelist = list()\n",
    "\n",
    "for line in file:\n",
    "    newLine = line.rstrip()\n",
    "    x = np.array(newLine.split(\",\"))\n",
    "    filelist.append(x)\n",
    "\n",
    "file.close()"
   ]
  },
  {
   "cell_type": "code",
   "execution_count": 4,
   "metadata": {},
   "outputs": [
    {
     "data": {
      "text/plain": [
       "array(['http://mashable.com/2013/01/07/amazon-instant-video-browser/',\n",
       "       ' 731.0', ' 12.0', ' 219.0', ' 0.663594466988', ' 0.999999992308',\n",
       "       ' 0.815384609112', ' 4.0', ' 2.0', ' 1.0', ' 0.0', ' 4.6803652968',\n",
       "       ' 5.0', ' 0.0', ' 1.0', ' 0.0', ' 0.0', ' 0.0', ' 0.0', ' 0.0',\n",
       "       ' 0.0', ' 0.0', ' 0.0', ' 0.0', ' 0.0', ' 0.0', ' 0.0', ' 0.0',\n",
       "       ' 496.0', ' 496.0', ' 496.0', ' 1.0', ' 0.0', ' 0.0', ' 0.0',\n",
       "       ' 0.0', ' 0.0', ' 0.0', ' 0.0', ' 0.500331204081',\n",
       "       ' 0.378278929586', ' 0.0400046751006', ' 0.0412626477296',\n",
       "       ' 0.0401225435029', ' 0.521617145481', ' 0.0925619834711',\n",
       "       ' 0.0456621004566', ' 0.013698630137', ' 0.769230769231',\n",
       "       ' 0.230769230769', ' 0.378636363636', ' 0.1', ' 0.7', ' -0.35',\n",
       "       ' -0.6', ' -0.2', ' 0.5', ' -0.1875', ' 0.0', ' 0.1875', ' 593'],\n",
       "      dtype='|S60')"
      ]
     },
     "execution_count": 4,
     "metadata": {},
     "output_type": "execute_result"
    }
   ],
   "source": [
    "filelist[1]"
   ]
  },
  {
   "cell_type": "code",
   "execution_count": 5,
   "metadata": {},
   "outputs": [],
   "source": [
    "filearray = np.array(filelist)\n"
   ]
  },
  {
   "cell_type": "code",
   "execution_count": 6,
   "metadata": {},
   "outputs": [
    {
     "data": {
      "text/plain": [
       "(39645L, 61L)"
      ]
     },
     "execution_count": 6,
     "metadata": {},
     "output_type": "execute_result"
    }
   ],
   "source": [
    "filearray.shape"
   ]
  },
  {
   "cell_type": "code",
   "execution_count": 7,
   "metadata": {},
   "outputs": [],
   "source": [
    "data = filearray[1:,:-1]\n",
    "y = filearray[1:,-1]"
   ]
  },
  {
   "cell_type": "code",
   "execution_count": 8,
   "metadata": {},
   "outputs": [
    {
     "name": "stdout",
     "output_type": "stream",
     "text": [
      "[' 593' ' 711' ' 1500' ... ' 1900' ' 1100' ' 1300']\n"
     ]
    }
   ],
   "source": [
    "print (y)"
   ]
  },
  {
   "cell_type": "code",
   "execution_count": 9,
   "metadata": {},
   "outputs": [],
   "source": [
    "y = [x.strip(' ') for x in y]"
   ]
  },
  {
   "cell_type": "code",
   "execution_count": 10,
   "metadata": {},
   "outputs": [],
   "source": [
    "y = [float(x) for x in y]"
   ]
  },
  {
   "cell_type": "code",
   "execution_count": 11,
   "metadata": {},
   "outputs": [
    {
     "data": {
      "text/plain": [
       "float"
      ]
     },
     "execution_count": 11,
     "metadata": {},
     "output_type": "execute_result"
    }
   ],
   "source": [
    "type(y[3])"
   ]
  },
  {
   "cell_type": "code",
   "execution_count": 12,
   "metadata": {},
   "outputs": [],
   "source": [
    "Y = [1 if x >1400 else 0 for x in y]"
   ]
  },
  {
   "cell_type": "code",
   "execution_count": 13,
   "metadata": {},
   "outputs": [],
   "source": [
    "Y = np.array(Y)"
   ]
  },
  {
   "cell_type": "code",
   "execution_count": 14,
   "metadata": {},
   "outputs": [
    {
     "data": {
      "text/plain": [
       "MLPClassifier(activation='relu', alpha=0.0001, batch_size='auto', beta_1=0.9,\n",
       "       beta_2=0.999, early_stopping=False, epsilon=1e-08,\n",
       "       hidden_layer_sizes=(30, 30, 30), learning_rate='constant',\n",
       "       learning_rate_init=0.001, max_iter=200, momentum=0.9,\n",
       "       nesterovs_momentum=True, power_t=0.5, random_state=None,\n",
       "       shuffle=True, solver='adam', tol=0.0001, validation_fraction=0.1,\n",
       "       verbose=False, warm_start=False)"
      ]
     },
     "execution_count": 14,
     "metadata": {},
     "output_type": "execute_result"
    }
   ],
   "source": [
    "mlp_clf = MLPClassifier(hidden_layer_sizes=(30,30,30))\n",
    "mlp_clf.fit(data[:,1:].astype(np.float), Y)"
   ]
  },
  {
   "cell_type": "code",
   "execution_count": 15,
   "metadata": {},
   "outputs": [
    {
     "name": "stdout",
     "output_type": "stream",
     "text": [
      "('predicted:', array([0, 0]))\n",
      "('truth', array([0, 0]))\n"
     ]
    }
   ],
   "source": [
    "print(\"predicted:\", mlp_clf.predict(data[-2:,1:].astype(float)))\n",
    "print(\"truth\", Y[-2:])"
   ]
  },
  {
   "cell_type": "code",
   "execution_count": 16,
   "metadata": {},
   "outputs": [
    {
     "data": {
      "text/plain": [
       "MLPClassifier(activation='relu', alpha=0.0001, batch_size='auto', beta_1=0.9,\n",
       "       beta_2=0.999, early_stopping=False, epsilon=1e-08,\n",
       "       hidden_layer_sizes=(20, 20), learning_rate='constant',\n",
       "       learning_rate_init=0.001, max_iter=200, momentum=0.9,\n",
       "       nesterovs_momentum=True, power_t=0.5, random_state=None,\n",
       "       shuffle=True, solver='adam', tol=0.0001, validation_fraction=0.1,\n",
       "       verbose=False, warm_start=False)"
      ]
     },
     "execution_count": 16,
     "metadata": {},
     "output_type": "execute_result"
    }
   ],
   "source": [
    "#1-1 Use 2 hidden layers with 20 nodes in each layer\n",
    "\n",
    "mlp_clf = MLPClassifier(hidden_layer_sizes=(20,20))\n",
    "mlp_clf.fit(data[:,1:].astype(np.float), Y)"
   ]
  },
  {
   "cell_type": "code",
   "execution_count": 17,
   "metadata": {},
   "outputs": [
    {
     "name": "stdout",
     "output_type": "stream",
     "text": [
      "('Best Loss:', 10.708644951557833)\n",
      "('Number of Layers:', 4)\n",
      "('Output Layer Activation:', 'logistic')\n",
      "---------------------------------------------------------------------------------------------------------------\n",
      "Shape of the network weights for each layer:\n",
      "The first tuple is basically (number of features,size of the first hidden layer), e.g. (5,10)\n",
      "Second tuple is (size of the first hidden layer, size of the second hidden layer), e.g. (10,4)\n",
      "Third tuple is (size of the second hidden layer, size of the third hidden layer), e.g. (4,5)\n",
      "Lastly last layer will output the result, therefore it's size is (size of the third hidden layer, 1), e.g. (5,1)\n",
      "[(59L, 20L), (20L, 20L), (20L, 1L)]\n",
      "----------------------------------------------------------------------------------------------------------------\n"
     ]
    }
   ],
   "source": [
    "print(\"Best Loss:\", mlp_clf.best_loss_)\n",
    "print(\"Number of Layers:\", mlp_clf.n_layers_)\n",
    "print(\"Output Layer Activation:\", mlp_clf.out_activation_)\n",
    "print(\"---------------------------------------------------------------------------------------------------------------\")\n",
    "print(\"Shape of the network weights for each layer:\")\n",
    "print(\"The first tuple is basically (number of features,size of the first hidden layer), e.g. (5,10)\")\n",
    "print(\"Second tuple is (size of the first hidden layer, size of the second hidden layer), e.g. (10,4)\")\n",
    "print(\"Third tuple is (size of the second hidden layer, size of the third hidden layer), e.g. (4,5)\")\n",
    "print(\"Lastly last layer will output the result, therefore it's size is (size of the third hidden layer, 1), e.g. (5,1)\")\n",
    "print([coef.shape for coef in mlp_clf.coefs_])\n",
    "print(\"----------------------------------------------------------------------------------------------------------------\")"
   ]
  },
  {
   "cell_type": "code",
   "execution_count": 18,
   "metadata": {},
   "outputs": [
    {
     "data": {
      "text/plain": [
       "MLPClassifier(activation='tanh', alpha=0.0001, batch_size='auto', beta_1=0.9,\n",
       "       beta_2=0.999, early_stopping=False, epsilon=1e-08,\n",
       "       hidden_layer_sizes=(20, 20), learning_rate='constant',\n",
       "       learning_rate_init=0.001, max_iter=200, momentum=0.9,\n",
       "       nesterovs_momentum=True, power_t=0.5, random_state=None,\n",
       "       shuffle=True, solver='adam', tol=0.0001, validation_fraction=0.1,\n",
       "       verbose=False, warm_start=False)"
      ]
     },
     "execution_count": 18,
     "metadata": {},
     "output_type": "execute_result"
    }
   ],
   "source": [
    "#1-2 Use 2 hidden layers with 20 nodes in each layer, tanh\n",
    "\n",
    "mlp_clf = MLPClassifier(hidden_layer_sizes=(20,20), activation = 'tanh')\n",
    "mlp_clf.fit(data[:,1:].astype(np.float), Y)"
   ]
  },
  {
   "cell_type": "code",
   "execution_count": 19,
   "metadata": {},
   "outputs": [
    {
     "name": "stdout",
     "output_type": "stream",
     "text": [
      "('Best Loss:', 0.6914463112885956)\n",
      "('Number of Layers:', 4)\n",
      "('Output Layer Activation:', 'logistic')\n",
      "---------------------------------------------------------------------------------------------------------------\n",
      "Shape of the network weights for each layer:\n",
      "The first tuple is basically (number of features,size of the first hidden layer), e.g. (5,10)\n",
      "Second tuple is (size of the first hidden layer, size of the second hidden layer), e.g. (10,4)\n",
      "Third tuple is (size of the second hidden layer, size of the third hidden layer), e.g. (4,5)\n",
      "Lastly last layer will output the result, therefore it's size is (size of the third hidden layer, 1), e.g. (5,1)\n",
      "[(59L, 20L), (20L, 20L), (20L, 1L)]\n",
      "----------------------------------------------------------------------------------------------------------------\n"
     ]
    }
   ],
   "source": [
    "print(\"Best Loss:\", mlp_clf.best_loss_)\n",
    "print(\"Number of Layers:\", mlp_clf.n_layers_)\n",
    "print(\"Output Layer Activation:\", mlp_clf.out_activation_)\n",
    "print(\"---------------------------------------------------------------------------------------------------------------\")\n",
    "print(\"Shape of the network weights for each layer:\")\n",
    "print(\"The first tuple is basically (number of features,size of the first hidden layer), e.g. (5,10)\")\n",
    "print(\"Second tuple is (size of the first hidden layer, size of the second hidden layer), e.g. (10,4)\")\n",
    "print(\"Third tuple is (size of the second hidden layer, size of the third hidden layer), e.g. (4,5)\")\n",
    "print(\"Lastly last layer will output the result, therefore it's size is (size of the third hidden layer, 1), e.g. (5,1)\")\n",
    "print([coef.shape for coef in mlp_clf.coefs_])\n",
    "print(\"----------------------------------------------------------------------------------------------------------------\")"
   ]
  },
  {
   "cell_type": "code",
   "execution_count": 20,
   "metadata": {},
   "outputs": [
    {
     "data": {
      "text/plain": [
       "MLPClassifier(activation='relu', alpha=0.0001, batch_size='auto', beta_1=0.9,\n",
       "       beta_2=0.999, early_stopping=False, epsilon=1e-08,\n",
       "       hidden_layer_sizes=(100, 100), learning_rate='constant',\n",
       "       learning_rate_init=0.001, max_iter=200, momentum=0.9,\n",
       "       nesterovs_momentum=True, power_t=0.5, random_state=None,\n",
       "       shuffle=True, solver='adam', tol=0.0001, validation_fraction=0.1,\n",
       "       verbose=False, warm_start=False)"
      ]
     },
     "execution_count": 20,
     "metadata": {},
     "output_type": "execute_result"
    }
   ],
   "source": [
    "#2-1 Use 2 hidden layers with 100 nodes in each layer.\n",
    "\n",
    "mlp_clf = MLPClassifier(hidden_layer_sizes=(100,100))\n",
    "mlp_clf.fit(data[:,1:].astype(np.float), Y)"
   ]
  },
  {
   "cell_type": "code",
   "execution_count": 21,
   "metadata": {},
   "outputs": [
    {
     "name": "stdout",
     "output_type": "stream",
     "text": [
      "('Best Loss:', 10.768781244523826)\n",
      "('Number of Layers:', 4)\n",
      "('Output Layer Activation:', 'logistic')\n",
      "---------------------------------------------------------------------------------------------------------------\n",
      "Shape of the network weights for each layer:\n",
      "The first tuple is basically (number of features,size of the first hidden layer), e.g. (5,10)\n",
      "Second tuple is (size of the first hidden layer, size of the second hidden layer), e.g. (10,4)\n",
      "Third tuple is (size of the second hidden layer, size of the third hidden layer), e.g. (4,5)\n",
      "Lastly last layer will output the result, therefore it's size is (size of the third hidden layer, 1), e.g. (5,1)\n",
      "[(59L, 100L), (100L, 100L), (100L, 1L)]\n",
      "----------------------------------------------------------------------------------------------------------------\n"
     ]
    }
   ],
   "source": [
    "print(\"Best Loss:\", mlp_clf.best_loss_)\n",
    "print(\"Number of Layers:\", mlp_clf.n_layers_)\n",
    "print(\"Output Layer Activation:\", mlp_clf.out_activation_)\n",
    "print(\"---------------------------------------------------------------------------------------------------------------\")\n",
    "print(\"Shape of the network weights for each layer:\")\n",
    "print(\"The first tuple is basically (number of features,size of the first hidden layer), e.g. (5,10)\")\n",
    "print(\"Second tuple is (size of the first hidden layer, size of the second hidden layer), e.g. (10,4)\")\n",
    "print(\"Third tuple is (size of the second hidden layer, size of the third hidden layer), e.g. (4,5)\")\n",
    "print(\"Lastly last layer will output the result, therefore it's size is (size of the third hidden layer, 1), e.g. (5,1)\")\n",
    "print([coef.shape for coef in mlp_clf.coefs_])\n",
    "print(\"----------------------------------------------------------------------------------------------------------------\")"
   ]
  },
  {
   "cell_type": "code",
   "execution_count": 22,
   "metadata": {},
   "outputs": [
    {
     "data": {
      "text/plain": [
       "MLPClassifier(activation='tanh', alpha=0.0001, batch_size='auto', beta_1=0.9,\n",
       "       beta_2=0.999, early_stopping=False, epsilon=1e-08,\n",
       "       hidden_layer_sizes=(100, 100), learning_rate='constant',\n",
       "       learning_rate_init=0.001, max_iter=200, momentum=0.9,\n",
       "       nesterovs_momentum=True, power_t=0.5, random_state=None,\n",
       "       shuffle=True, solver='adam', tol=0.0001, validation_fraction=0.1,\n",
       "       verbose=False, warm_start=False)"
      ]
     },
     "execution_count": 22,
     "metadata": {},
     "output_type": "execute_result"
    }
   ],
   "source": [
    "#2-2 Use 2 hidden layers with 100 nodes in each layer. tanh\n",
    "\n",
    "mlp_clf = MLPClassifier(hidden_layer_sizes=(100,100), activation = 'tanh')\n",
    "mlp_clf.fit(data[:,1:].astype(np.float), Y)"
   ]
  },
  {
   "cell_type": "code",
   "execution_count": 23,
   "metadata": {},
   "outputs": [
    {
     "name": "stdout",
     "output_type": "stream",
     "text": [
      "('Best Loss:', 0.6902934092321684)\n",
      "('Number of Layers:', 4)\n",
      "('Output Layer Activation:', 'logistic')\n",
      "---------------------------------------------------------------------------------------------------------------\n",
      "Shape of the network weights for each layer:\n",
      "The first tuple is basically (number of features,size of the first hidden layer), e.g. (5,10)\n",
      "Second tuple is (size of the first hidden layer, size of the second hidden layer), e.g. (10,4)\n",
      "Third tuple is (size of the second hidden layer, size of the third hidden layer), e.g. (4,5)\n",
      "Lastly last layer will output the result, therefore it's size is (size of the third hidden layer, 1), e.g. (5,1)\n",
      "[(59L, 100L), (100L, 100L), (100L, 1L)]\n",
      "----------------------------------------------------------------------------------------------------------------\n"
     ]
    }
   ],
   "source": [
    "print(\"Best Loss:\", mlp_clf.best_loss_)\n",
    "print(\"Number of Layers:\", mlp_clf.n_layers_)\n",
    "print(\"Output Layer Activation:\", mlp_clf.out_activation_)\n",
    "print(\"---------------------------------------------------------------------------------------------------------------\")\n",
    "print(\"Shape of the network weights for each layer:\")\n",
    "print(\"The first tuple is basically (number of features,size of the first hidden layer), e.g. (5,10)\")\n",
    "print(\"Second tuple is (size of the first hidden layer, size of the second hidden layer), e.g. (10,4)\")\n",
    "print(\"Third tuple is (size of the second hidden layer, size of the third hidden layer), e.g. (4,5)\")\n",
    "print(\"Lastly last layer will output the result, therefore it's size is (size of the third hidden layer, 1), e.g. (5,1)\")\n",
    "print([coef.shape for coef in mlp_clf.coefs_])\n",
    "print(\"----------------------------------------------------------------------------------------------------------------\")"
   ]
  },
  {
   "cell_type": "code",
   "execution_count": 24,
   "metadata": {},
   "outputs": [
    {
     "data": {
      "text/plain": [
       "MLPClassifier(activation='relu', alpha=0.0001, batch_size='auto', beta_1=0.9,\n",
       "       beta_2=0.999, early_stopping=False, epsilon=1e-08,\n",
       "       hidden_layer_sizes=(20, 20, 20, 20, 20), learning_rate='constant',\n",
       "       learning_rate_init=0.001, max_iter=200, momentum=0.9,\n",
       "       nesterovs_momentum=True, power_t=0.5, random_state=None,\n",
       "       shuffle=True, solver='adam', tol=0.0001, validation_fraction=0.1,\n",
       "       verbose=False, warm_start=False)"
      ]
     },
     "execution_count": 24,
     "metadata": {},
     "output_type": "execute_result"
    }
   ],
   "source": [
    "#3-1 Use 5 hidden layers with 20 nodes in each layer.\n",
    "\n",
    "mlp_clf = MLPClassifier(hidden_layer_sizes=(20,20,20,20,20))\n",
    "mlp_clf.fit(data[:,1:].astype(np.float), Y)"
   ]
  },
  {
   "cell_type": "code",
   "execution_count": 25,
   "metadata": {},
   "outputs": [
    {
     "name": "stdout",
     "output_type": "stream",
     "text": [
      "('Best Loss:', 0.7061767349969924)\n",
      "('Number of Layers:', 7)\n",
      "('Output Layer Activation:', 'logistic')\n",
      "---------------------------------------------------------------------------------------------------------------\n",
      "Shape of the network weights for each layer:\n",
      "The first tuple is basically (number of features,size of the first hidden layer), e.g. (5,10)\n",
      "Second tuple is (size of the first hidden layer, size of the second hidden layer), e.g. (10,4)\n",
      "Third tuple is (size of the second hidden layer, size of the third hidden layer), e.g. (4,5)\n",
      "Lastly last layer will output the result, therefore it's size is (size of the third hidden layer, 1), e.g. (5,1)\n",
      "[(59L, 20L), (20L, 20L), (20L, 20L), (20L, 20L), (20L, 20L), (20L, 1L)]\n",
      "----------------------------------------------------------------------------------------------------------------\n"
     ]
    }
   ],
   "source": [
    "print(\"Best Loss:\", mlp_clf.best_loss_)\n",
    "print(\"Number of Layers:\", mlp_clf.n_layers_)\n",
    "print(\"Output Layer Activation:\", mlp_clf.out_activation_)\n",
    "print(\"---------------------------------------------------------------------------------------------------------------\")\n",
    "print(\"Shape of the network weights for each layer:\")\n",
    "print(\"The first tuple is basically (number of features,size of the first hidden layer), e.g. (5,10)\")\n",
    "print(\"Second tuple is (size of the first hidden layer, size of the second hidden layer), e.g. (10,4)\")\n",
    "print(\"Third tuple is (size of the second hidden layer, size of the third hidden layer), e.g. (4,5)\")\n",
    "print(\"Lastly last layer will output the result, therefore it's size is (size of the third hidden layer, 1), e.g. (5,1)\")\n",
    "print([coef.shape for coef in mlp_clf.coefs_])\n",
    "print(\"----------------------------------------------------------------------------------------------------------------\")"
   ]
  },
  {
   "cell_type": "code",
   "execution_count": 26,
   "metadata": {},
   "outputs": [
    {
     "data": {
      "text/plain": [
       "MLPClassifier(activation='tanh', alpha=0.0001, batch_size='auto', beta_1=0.9,\n",
       "       beta_2=0.999, early_stopping=False, epsilon=1e-08,\n",
       "       hidden_layer_sizes=(20, 20, 20, 20, 20), learning_rate='constant',\n",
       "       learning_rate_init=0.001, max_iter=200, momentum=0.9,\n",
       "       nesterovs_momentum=True, power_t=0.5, random_state=None,\n",
       "       shuffle=True, solver='adam', tol=0.0001, validation_fraction=0.1,\n",
       "       verbose=False, warm_start=False)"
      ]
     },
     "execution_count": 26,
     "metadata": {},
     "output_type": "execute_result"
    }
   ],
   "source": [
    "#3-2 Use 5 hidden layers with 20 nodes in each layer.\n",
    "\n",
    "mlp_clf = MLPClassifier(hidden_layer_sizes=(20,20,20,20,20), activation = 'tanh')\n",
    "mlp_clf.fit(data[:,1:].astype(np.float), Y)"
   ]
  },
  {
   "cell_type": "code",
   "execution_count": 27,
   "metadata": {},
   "outputs": [
    {
     "name": "stdout",
     "output_type": "stream",
     "text": [
      "('Best Loss:', 0.6932473980527416)\n",
      "('Number of Layers:', 7)\n",
      "('Output Layer Activation:', 'logistic')\n",
      "---------------------------------------------------------------------------------------------------------------\n",
      "Shape of the network weights for each layer:\n",
      "The first tuple is basically (number of features,size of the first hidden layer), e.g. (5,10)\n",
      "Second tuple is (size of the first hidden layer, size of the second hidden layer), e.g. (10,4)\n",
      "Third tuple is (size of the second hidden layer, size of the third hidden layer), e.g. (4,5)\n",
      "Lastly last layer will output the result, therefore it's size is (size of the third hidden layer, 1), e.g. (5,1)\n",
      "[(59L, 20L), (20L, 20L), (20L, 20L), (20L, 20L), (20L, 20L), (20L, 1L)]\n",
      "----------------------------------------------------------------------------------------------------------------\n"
     ]
    }
   ],
   "source": [
    "print(\"Best Loss:\", mlp_clf.best_loss_)\n",
    "print(\"Number of Layers:\", mlp_clf.n_layers_)\n",
    "print(\"Output Layer Activation:\", mlp_clf.out_activation_)\n",
    "print(\"---------------------------------------------------------------------------------------------------------------\")\n",
    "print(\"Shape of the network weights for each layer:\")\n",
    "print(\"The first tuple is basically (number of features,size of the first hidden layer), e.g. (5,10)\")\n",
    "print(\"Second tuple is (size of the first hidden layer, size of the second hidden layer), e.g. (10,4)\")\n",
    "print(\"Third tuple is (size of the second hidden layer, size of the third hidden layer), e.g. (4,5)\")\n",
    "print(\"Lastly last layer will output the result, therefore it's size is (size of the third hidden layer, 1), e.g. (5,1)\")\n",
    "print([coef.shape for coef in mlp_clf.coefs_])\n",
    "print(\"----------------------------------------------------------------------------------------------------------------\")"
   ]
  },
  {
   "cell_type": "code",
   "execution_count": null,
   "metadata": {},
   "outputs": [],
   "source": []
  },
  {
   "cell_type": "code",
   "execution_count": null,
   "metadata": {},
   "outputs": [],
   "source": []
  },
  {
   "cell_type": "code",
   "execution_count": 28,
   "metadata": {},
   "outputs": [
    {
     "data": {
      "text/plain": [
       "MLPClassifier(activation='relu', alpha=0.0001, batch_size='auto', beta_1=0.9,\n",
       "       beta_2=0.999, early_stopping=False, epsilon=1e-08,\n",
       "       hidden_layer_sizes=(100, 100, 100, 100, 100),\n",
       "       learning_rate='constant', learning_rate_init=0.001, max_iter=200,\n",
       "       momentum=0.9, nesterovs_momentum=True, power_t=0.5,\n",
       "       random_state=None, shuffle=True, solver='adam', tol=0.0001,\n",
       "       validation_fraction=0.1, verbose=False, warm_start=False)"
      ]
     },
     "execution_count": 28,
     "metadata": {},
     "output_type": "execute_result"
    }
   ],
   "source": [
    "#4-1 Use 5 hidden with 100 nodes in each layer.\n",
    "\n",
    "mlp_clf = MLPClassifier(hidden_layer_sizes=(100,100,100,100,100))\n",
    "mlp_clf.fit(data[:,1:].astype(np.float), Y)"
   ]
  },
  {
   "cell_type": "code",
   "execution_count": 29,
   "metadata": {},
   "outputs": [
    {
     "name": "stdout",
     "output_type": "stream",
     "text": [
      "('Best Loss:', 5.91001618872255)\n",
      "('Number of Layers:', 7)\n",
      "('Output Layer Activation:', 'logistic')\n",
      "---------------------------------------------------------------------------------------------------------------\n",
      "Shape of the network weights for each layer:\n",
      "The first tuple is basically (number of features,size of the first hidden layer), e.g. (5,10)\n",
      "Second tuple is (size of the first hidden layer, size of the second hidden layer), e.g. (10,4)\n",
      "Third tuple is (size of the second hidden layer, size of the third hidden layer), e.g. (4,5)\n",
      "Lastly last layer will output the result, therefore it's size is (size of the third hidden layer, 1), e.g. (5,1)\n",
      "[(59L, 100L), (100L, 100L), (100L, 100L), (100L, 100L), (100L, 100L), (100L, 1L)]\n",
      "----------------------------------------------------------------------------------------------------------------\n"
     ]
    }
   ],
   "source": [
    "print(\"Best Loss:\", mlp_clf.best_loss_)\n",
    "print(\"Number of Layers:\", mlp_clf.n_layers_)\n",
    "print(\"Output Layer Activation:\", mlp_clf.out_activation_)\n",
    "print(\"---------------------------------------------------------------------------------------------------------------\")\n",
    "print(\"Shape of the network weights for each layer:\")\n",
    "print(\"The first tuple is basically (number of features,size of the first hidden layer), e.g. (5,10)\")\n",
    "print(\"Second tuple is (size of the first hidden layer, size of the second hidden layer), e.g. (10,4)\")\n",
    "print(\"Third tuple is (size of the second hidden layer, size of the third hidden layer), e.g. (4,5)\")\n",
    "print(\"Lastly last layer will output the result, therefore it's size is (size of the third hidden layer, 1), e.g. (5,1)\")\n",
    "print([coef.shape for coef in mlp_clf.coefs_])\n",
    "print(\"----------------------------------------------------------------------------------------------------------------\")"
   ]
  },
  {
   "cell_type": "code",
   "execution_count": 30,
   "metadata": {},
   "outputs": [
    {
     "data": {
      "text/plain": [
       "MLPClassifier(activation='tanh', alpha=0.0001, batch_size='auto', beta_1=0.9,\n",
       "       beta_2=0.999, early_stopping=False, epsilon=1e-08,\n",
       "       hidden_layer_sizes=(100, 100, 100, 100, 100),\n",
       "       learning_rate='constant', learning_rate_init=0.001, max_iter=200,\n",
       "       momentum=0.9, nesterovs_momentum=True, power_t=0.5,\n",
       "       random_state=None, shuffle=True, solver='adam', tol=0.0001,\n",
       "       validation_fraction=0.1, verbose=False, warm_start=False)"
      ]
     },
     "execution_count": 30,
     "metadata": {},
     "output_type": "execute_result"
    }
   ],
   "source": [
    "#4-2 Use 5 hidden with 100 nodes in each layer. tanh\n",
    "\n",
    "mlp_clf = MLPClassifier(hidden_layer_sizes=(100,100,100,100,100), activation = 'tanh')\n",
    "mlp_clf.fit(data[:,1:].astype(np.float), Y)"
   ]
  },
  {
   "cell_type": "code",
   "execution_count": 31,
   "metadata": {},
   "outputs": [
    {
     "name": "stdout",
     "output_type": "stream",
     "text": [
      "('Best Loss:', 0.6920912550769159)\n",
      "('Number of Layers:', 7)\n",
      "('Output Layer Activation:', 'logistic')\n",
      "---------------------------------------------------------------------------------------------------------------\n",
      "Shape of the network weights for each layer:\n",
      "The first tuple is basically (number of features,size of the first hidden layer), e.g. (5,10)\n",
      "Second tuple is (size of the first hidden layer, size of the second hidden layer), e.g. (10,4)\n",
      "Third tuple is (size of the second hidden layer, size of the third hidden layer), e.g. (4,5)\n",
      "Lastly last layer will output the result, therefore it's size is (size of the third hidden layer, 1), e.g. (5,1)\n",
      "[(59L, 100L), (100L, 100L), (100L, 100L), (100L, 100L), (100L, 100L), (100L, 1L)]\n",
      "----------------------------------------------------------------------------------------------------------------\n"
     ]
    }
   ],
   "source": [
    "print(\"Best Loss:\", mlp_clf.best_loss_)\n",
    "print(\"Number of Layers:\", mlp_clf.n_layers_)\n",
    "print(\"Output Layer Activation:\", mlp_clf.out_activation_)\n",
    "print(\"---------------------------------------------------------------------------------------------------------------\")\n",
    "print(\"Shape of the network weights for each layer:\")\n",
    "print(\"The first tuple is basically (number of features,size of the first hidden layer), e.g. (5,10)\")\n",
    "print(\"Second tuple is (size of the first hidden layer, size of the second hidden layer), e.g. (10,4)\")\n",
    "print(\"Third tuple is (size of the second hidden layer, size of the third hidden layer), e.g. (4,5)\")\n",
    "print(\"Lastly last layer will output the result, therefore it's size is (size of the third hidden layer, 1), e.g. (5,1)\")\n",
    "print([coef.shape for coef in mlp_clf.coefs_])\n",
    "print(\"----------------------------------------------------------------------------------------------------------------\")"
   ]
  },
  {
   "cell_type": "code",
   "execution_count": 32,
   "metadata": {},
   "outputs": [
    {
     "data": {
      "text/plain": [
       "5"
      ]
     },
     "execution_count": 32,
     "metadata": {},
     "output_type": "execute_result"
    }
   ],
   "source": [
    "from sklearn.model_selection import KFold, cross_val_score\n",
    "from sklearn import metrics\n",
    "\n",
    "kf = KFold(n_splits=5)\n",
    "kf.get_n_splits(data[:,1:])"
   ]
  },
  {
   "cell_type": "code",
   "execution_count": 33,
   "metadata": {},
   "outputs": [
    {
     "name": "stdout",
     "output_type": "stream",
     "text": [
      "             precision    recall  f1-score   support\n",
      "\n",
      "          0       0.46      0.56      0.51      3525\n",
      "          1       0.58      0.49      0.53      4404\n",
      "\n",
      "avg / total       0.53      0.52      0.52      7929\n",
      "\n",
      "             precision    recall  f1-score   support\n",
      "\n",
      "          0       0.65      0.01      0.02      4423\n",
      "          1       0.44      0.99      0.61      3506\n",
      "\n",
      "avg / total       0.56      0.44      0.28      7929\n",
      "\n",
      "             precision    recall  f1-score   support\n",
      "\n",
      "          0       0.59      0.18      0.28      3733\n",
      "          1       0.55      0.89      0.68      4196\n",
      "\n",
      "avg / total       0.57      0.55      0.49      7929\n",
      "\n",
      "             precision    recall  f1-score   support\n",
      "\n",
      "          0       0.50      0.99      0.66      3919\n",
      "          1       0.75      0.02      0.04      4010\n",
      "\n",
      "avg / total       0.62      0.50      0.35      7929\n",
      "\n",
      "             precision    recall  f1-score   support\n",
      "\n",
      "          0       0.52      0.01      0.03      4482\n",
      "          1       0.43      0.98      0.60      3446\n",
      "\n",
      "avg / total       0.48      0.44      0.28      7928\n",
      "\n"
     ]
    }
   ],
   "source": [
    "#1-1 Use 2 hidden layers with 20 nodes in each layer\n",
    "datax = data[:,1:]\n",
    "Y = np.array(Y)\n",
    "\n",
    "for train_index, test_index in kf.split(datax):\n",
    "    x_train, x_test = datax[train_index], datax[test_index]\n",
    "    y_train, y_test = Y[train_index], Y[test_index]\n",
    "\n",
    "    mlp_clf = MLPClassifier(hidden_layer_sizes=(20,20))\n",
    "    mlp_clf.fit(x_train.astype(np.float), y_train)\n",
    "    \n",
    "    predicted = mlp_clf.predict(x_test.astype(np.float))\n",
    "    \n",
    "    print metrics.classification_report(y_test, predicted)\n"
   ]
  },
  {
   "cell_type": "code",
   "execution_count": 34,
   "metadata": {},
   "outputs": [
    {
     "name": "stdout",
     "output_type": "stream",
     "text": [
      "             precision    recall  f1-score   support\n",
      "\n",
      "          0       0.45      0.88      0.59      3525\n",
      "          1       0.58      0.13      0.21      4404\n",
      "\n",
      "avg / total       0.52      0.46      0.38      7929\n",
      "\n",
      "             precision    recall  f1-score   support\n",
      "\n",
      "          0       0.56      0.95      0.71      4423\n",
      "          1       0.54      0.07      0.12      3506\n",
      "\n",
      "avg / total       0.55      0.56      0.45      7929\n",
      "\n",
      "             precision    recall  f1-score   support\n",
      "\n",
      "          0       0.48      0.86      0.61      3733\n",
      "          1       0.57      0.17      0.26      4196\n",
      "\n",
      "avg / total       0.53      0.49      0.43      7929\n",
      "\n",
      "             precision    recall  f1-score   support\n",
      "\n",
      "          0       0.44      0.41      0.42      3919\n",
      "          1       0.46      0.50      0.48      4010\n",
      "\n",
      "avg / total       0.45      0.45      0.45      7929\n",
      "\n",
      "             precision    recall  f1-score   support\n",
      "\n",
      "          0       0.59      0.81      0.68      4482\n",
      "          1       0.52      0.27      0.35      3446\n",
      "\n",
      "avg / total       0.56      0.57      0.54      7928\n",
      "\n"
     ]
    }
   ],
   "source": [
    "#1-2 Use 2 hidden layers with 20 nodes in each layer, tanh\n",
    "\n",
    "for train_index, test_index in kf.split(datax):\n",
    "    x_train, x_test = datax[train_index], datax[test_index]\n",
    "    y_train, y_test = Y[train_index], Y[test_index]\n",
    "\n",
    "    mlp_clf = MLPClassifier(hidden_layer_sizes=(20,20), activation = 'tanh')\n",
    "    mlp_clf.fit(x_train.astype(np.float), y_train)\n",
    "    \n",
    "    predicted = mlp_clf.predict(x_test.astype(np.float))\n",
    "    \n",
    "    print metrics.classification_report(y_test, predicted)\n"
   ]
  },
  {
   "cell_type": "code",
   "execution_count": 35,
   "metadata": {},
   "outputs": [
    {
     "name": "stdout",
     "output_type": "stream",
     "text": [
      "             precision    recall  f1-score   support\n",
      "\n",
      "          0       0.44      0.83      0.58      3525\n",
      "          1       0.55      0.16      0.25      4404\n",
      "\n",
      "avg / total       0.50      0.46      0.40      7929\n",
      "\n",
      "             precision    recall  f1-score   support\n",
      "\n",
      "          0       0.00      0.00      0.00      4423\n",
      "          1       0.44      1.00      0.61      3506\n",
      "\n",
      "avg / total       0.20      0.44      0.27      7929\n",
      "\n",
      "             precision    recall  f1-score   support\n",
      "\n",
      "          0       0.40      0.01      0.02      3733\n",
      "          1       0.53      0.99      0.69      4196\n",
      "\n",
      "avg / total       0.47      0.53      0.37      7929\n",
      "\n",
      "             precision    recall  f1-score   support\n",
      "\n",
      "          0       0.50      0.98      0.66      3919\n",
      "          1       0.60      0.03      0.05      4010\n",
      "\n",
      "avg / total       0.55      0.50      0.35      7929\n",
      "\n",
      "             precision    recall  f1-score   support\n",
      "\n",
      "          0       0.67      0.56      0.61      4482\n",
      "          1       0.53      0.65      0.58      3446\n",
      "\n",
      "avg / total       0.61      0.60      0.60      7928\n",
      "\n"
     ]
    }
   ],
   "source": [
    "#2-1 Use 2 hidden layers with 100 nodes in each layer.\n",
    "\n",
    "for train_index, test_index in kf.split(datax):\n",
    "    x_train, x_test = datax[train_index], datax[test_index]\n",
    "    y_train, y_test = Y[train_index], Y[test_index]\n",
    "\n",
    "    mlp_clf = MLPClassifier(hidden_layer_sizes=(100,100) )\n",
    "    mlp_clf.fit(x_train.astype(np.float), y_train)\n",
    "    \n",
    "    predicted = mlp_clf.predict(x_test.astype(np.float))\n",
    "    \n",
    "    print metrics.classification_report(y_test, predicted)"
   ]
  },
  {
   "cell_type": "code",
   "execution_count": 36,
   "metadata": {},
   "outputs": [
    {
     "name": "stdout",
     "output_type": "stream",
     "text": [
      "             precision    recall  f1-score   support\n",
      "\n",
      "          0       0.43      0.19      0.27      3525\n",
      "          1       0.55      0.80      0.65      4404\n",
      "\n",
      "avg / total       0.50      0.53      0.48      7929\n",
      "\n",
      "             precision    recall  f1-score   support\n",
      "\n",
      "          0       0.56      0.88      0.69      4423\n",
      "          1       0.48      0.13      0.21      3506\n",
      "\n",
      "avg / total       0.52      0.55      0.48      7929\n",
      "\n",
      "             precision    recall  f1-score   support\n",
      "\n",
      "          0       0.47      0.96      0.64      3733\n",
      "          1       0.60      0.05      0.09      4196\n",
      "\n",
      "avg / total       0.54      0.48      0.35      7929\n",
      "\n",
      "             precision    recall  f1-score   support\n",
      "\n",
      "          0       0.54      0.67      0.60      3919\n",
      "          1       0.58      0.45      0.50      4010\n",
      "\n",
      "avg / total       0.56      0.56      0.55      7929\n",
      "\n",
      "             precision    recall  f1-score   support\n",
      "\n",
      "          0       0.58      0.92      0.71      4482\n",
      "          1       0.53      0.11      0.18      3446\n",
      "\n",
      "avg / total       0.56      0.57      0.48      7928\n",
      "\n"
     ]
    }
   ],
   "source": [
    "#2-2 Use 2 hidden layers with 100 nodes in each layer. tanh\n",
    "\n",
    "for train_index, test_index in kf.split(datax):\n",
    "    x_train, x_test = datax[train_index], datax[test_index]\n",
    "    y_train, y_test = Y[train_index], Y[test_index]\n",
    "\n",
    "    mlp_clf = MLPClassifier(hidden_layer_sizes=(100,100), activation = 'tanh')\n",
    "    mlp_clf.fit(x_train.astype(np.float), y_train)\n",
    "    \n",
    "    predicted = mlp_clf.predict(x_test.astype(np.float))\n",
    "    \n",
    "    print metrics.classification_report(y_test, predicted)"
   ]
  },
  {
   "cell_type": "code",
   "execution_count": 37,
   "metadata": {},
   "outputs": [
    {
     "name": "stdout",
     "output_type": "stream",
     "text": [
      "             precision    recall  f1-score   support\n",
      "\n",
      "          0       0.45      0.62      0.52      3525\n",
      "          1       0.56      0.39      0.46      4404\n",
      "\n",
      "avg / total       0.51      0.49      0.48      7929\n",
      "\n",
      "             precision    recall  f1-score   support\n",
      "\n",
      "          0       0.66      0.52      0.58      4423\n",
      "          1       0.52      0.67      0.59      3506\n",
      "\n",
      "avg / total       0.60      0.59      0.59      7929\n",
      "\n",
      "             precision    recall  f1-score   support\n",
      "\n",
      "          0       0.57      0.34      0.43      3733\n",
      "          1       0.57      0.77      0.65      4196\n",
      "\n",
      "avg / total       0.57      0.57      0.55      7929\n",
      "\n",
      "             precision    recall  f1-score   support\n",
      "\n",
      "          0       0.50      0.98      0.66      3919\n",
      "          1       0.73      0.04      0.08      4010\n",
      "\n",
      "avg / total       0.62      0.51      0.37      7929\n",
      "\n",
      "             precision    recall  f1-score   support\n",
      "\n",
      "          0       0.60      0.57      0.59      4482\n",
      "          1       0.47      0.50      0.48      3446\n",
      "\n",
      "avg / total       0.54      0.54      0.54      7928\n",
      "\n"
     ]
    }
   ],
   "source": [
    "#3-1 Use 5 hidden layers with 20 nodes in each layer.\n",
    "\n",
    "for train_index, test_index in kf.split(datax):\n",
    "    x_train, x_test = datax[train_index], datax[test_index]\n",
    "    y_train, y_test = Y[train_index], Y[test_index]\n",
    "\n",
    "    mlp_clf = MLPClassifier(hidden_layer_sizes=(20,20,20,20,20) )\n",
    "    mlp_clf.fit(x_train.astype(np.float), y_train)\n",
    "    \n",
    "    predicted = mlp_clf.predict(x_test.astype(np.float))\n",
    "    \n",
    "    print metrics.classification_report(y_test, predicted)"
   ]
  },
  {
   "cell_type": "code",
   "execution_count": 38,
   "metadata": {},
   "outputs": [
    {
     "name": "stdout",
     "output_type": "stream",
     "text": [
      "             precision    recall  f1-score   support\n",
      "\n",
      "          0       0.45      0.62      0.52      3525\n",
      "          1       0.57      0.40      0.47      4404\n",
      "\n",
      "avg / total       0.52      0.50      0.49      7929\n",
      "\n",
      "             precision    recall  f1-score   support\n",
      "\n",
      "          0       0.60      0.00      0.01      4423\n",
      "          1       0.44      1.00      0.61      3506\n",
      "\n",
      "avg / total       0.53      0.44      0.28      7929\n",
      "\n",
      "             precision    recall  f1-score   support\n",
      "\n",
      "          0       0.48      0.83      0.61      3733\n",
      "          1       0.58      0.21      0.30      4196\n",
      "\n",
      "avg / total       0.53      0.50      0.45      7929\n",
      "\n",
      "             precision    recall  f1-score   support\n",
      "\n",
      "          0       0.00      0.00      0.00      3919\n",
      "          1       0.51      1.00      0.67      4010\n",
      "\n",
      "avg / total       0.26      0.51      0.34      7929\n",
      "\n",
      "             precision    recall  f1-score   support\n",
      "\n",
      "          0       0.59      0.79      0.67      4482\n",
      "          1       0.50      0.28      0.36      3446\n",
      "\n",
      "avg / total       0.55      0.57      0.54      7928\n",
      "\n"
     ]
    }
   ],
   "source": [
    "#3-2 Use 5 hidden layers with 20 nodes in each layer. tnah\n",
    "\n",
    "for train_index, test_index in kf.split(datax):\n",
    "    x_train, x_test = datax[train_index], datax[test_index]\n",
    "    y_train, y_test = Y[train_index], Y[test_index]\n",
    "\n",
    "    mlp_clf = MLPClassifier(hidden_layer_sizes=(20,20,20,20,20), activation = 'tanh')\n",
    "    mlp_clf.fit(x_train.astype(np.float), y_train)\n",
    "    \n",
    "    predicted = mlp_clf.predict(x_test.astype(np.float))\n",
    "    \n",
    "    print metrics.classification_report(y_test, predicted)"
   ]
  },
  {
   "cell_type": "code",
   "execution_count": 39,
   "metadata": {},
   "outputs": [
    {
     "data": {
      "text/plain": [
       "MLPClassifier(activation='relu', alpha=0.0001, batch_size='auto', beta_1=0.9,\n",
       "       beta_2=0.999, early_stopping=False, epsilon=1e-08,\n",
       "       hidden_layer_sizes=(20, 20), learning_rate='constant',\n",
       "       learning_rate_init=0.5, max_iter=200, momentum=0.9,\n",
       "       nesterovs_momentum=True, power_t=0.5, random_state=None,\n",
       "       shuffle=True, solver='adam', tol=0.0001, validation_fraction=0.1,\n",
       "       verbose=False, warm_start=False)"
      ]
     },
     "execution_count": 39,
     "metadata": {},
     "output_type": "execute_result"
    }
   ],
   "source": [
    "#1-1 Use 2 hidden layers with 20 nodes in each layer with different learning rate\n",
    "\n",
    "mlp_clf = MLPClassifier(hidden_layer_sizes=(20,20), learning_rate_init = 0.5)\n",
    "mlp_clf.fit(data[:,1:].astype(np.float), Y)"
   ]
  },
  {
   "cell_type": "code",
   "execution_count": 40,
   "metadata": {},
   "outputs": [
    {
     "name": "stdout",
     "output_type": "stream",
     "text": [
      "('predicted:', array([1, 1]))\n",
      "('truth', array([0, 0]))\n"
     ]
    }
   ],
   "source": [
    "print(\"predicted:\", mlp_clf.predict(data[-2:,1:].astype(float)))\n",
    "print(\"truth\", Y[-2:])"
   ]
  },
  {
   "cell_type": "code",
   "execution_count": 41,
   "metadata": {},
   "outputs": [
    {
     "name": "stdout",
     "output_type": "stream",
     "text": [
      "('Best Loss:', 0.6975631459484516)\n",
      "('Number of Layers:', 4)\n",
      "('Output Layer Activation:', 'logistic')\n",
      "---------------------------------------------------------------------------------------------------------------\n",
      "Shape of the network weights for each layer:\n",
      "The first tuple is basically (number of features,size of the first hidden layer), e.g. (5,10)\n",
      "Second tuple is (size of the first hidden layer, size of the second hidden layer), e.g. (10,4)\n",
      "Third tuple is (size of the second hidden layer, size of the third hidden layer), e.g. (4,5)\n",
      "Lastly last layer will output the result, therefore it's size is (size of the third hidden layer, 1), e.g. (5,1)\n",
      "[(59L, 20L), (20L, 20L), (20L, 1L)]\n",
      "----------------------------------------------------------------------------------------------------------------\n"
     ]
    }
   ],
   "source": [
    "print(\"Best Loss:\", mlp_clf.best_loss_)\n",
    "print(\"Number of Layers:\", mlp_clf.n_layers_)\n",
    "print(\"Output Layer Activation:\", mlp_clf.out_activation_)\n",
    "print(\"---------------------------------------------------------------------------------------------------------------\")\n",
    "print(\"Shape of the network weights for each layer:\")\n",
    "print(\"The first tuple is basically (number of features,size of the first hidden layer), e.g. (5,10)\")\n",
    "print(\"Second tuple is (size of the first hidden layer, size of the second hidden layer), e.g. (10,4)\")\n",
    "print(\"Third tuple is (size of the second hidden layer, size of the third hidden layer), e.g. (4,5)\")\n",
    "print(\"Lastly last layer will output the result, therefore it's size is (size of the third hidden layer, 1), e.g. (5,1)\")\n",
    "print([coef.shape for coef in mlp_clf.coefs_])\n",
    "print(\"----------------------------------------------------------------------------------------------------------------\")"
   ]
  },
  {
   "cell_type": "code",
   "execution_count": 70,
   "metadata": {},
   "outputs": [
    {
     "name": "stdout",
     "output_type": "stream",
     "text": [
      "accuracy:  average:  0.5034035509903166 || std:  0.05761060760928748\n",
      "precision:  average:  0.5481982274398177 || std:  0.07603868664678023\n",
      "f1 score:  average:  0.3841992813920827 || std:  0.2626093107166627\n",
      "recall:  average:  0.754569621331229 || std:  0.35752909873385663\n"
     ]
    }
   ],
   "source": [
    "#1-1 Use 2 hidden layers with 20 nodes in each layer\n",
    "\n",
    "mlp_clf = MLPClassifier(hidden_layer_sizes=(20,20))\n",
    "\n",
    "a = cross_val_score(mlp_clf, data[:,1:].astype(np.float), Y, cv=kf, n_jobs=-1)\n",
    "b = cross_val_score(mlp_clf, data[:,1:].astype(np.float), Y, cv=kf, scoring = 'precision', n_jobs=-1)\n",
    "c = cross_val_score(mlp_clf, data[:,1:].astype(np.float), Y, cv=kf, scoring = 'f1', n_jobs=-1)\n",
    "d = cross_val_score(mlp_clf, data[:,1:].astype(np.float), Y, cv=kf, scoring = 'recall', n_jobs=-1)\n",
    "\n",
    "print \"accuracy: \", \"average: \", np.mean(a), \"|| std: \", np.std(a)\n",
    "print \"precision: \", \"average: \", np.mean(b), \"|| std: \", np.std(b)\n",
    "print \"f1 score: \", \"average: \", np.mean(c), \"|| std: \", np.std(c)\n",
    "print \"recall: \", \"average: \", np.mean(d), \"|| std: \", np.std(d)"
   ]
  },
  {
   "cell_type": "code",
   "execution_count": 71,
   "metadata": {},
   "outputs": [
    {
     "name": "stdout",
     "output_type": "stream",
     "text": [
      "accuracy:  average:  0.5052229874648096 || std:  0.046480106786523555\n",
      "precision:  average:  0.5367523109683527 || std:  0.06456755200224737\n",
      "f1 score:  average:  0.390293070498552 || std:  0.22736679839089816\n",
      "recall:  average:  0.213830948982831 || std:  0.09751567959065441\n"
     ]
    }
   ],
   "source": [
    "#1-2 Use 2 hidden layers with 20 nodes in each layer, tanh\n",
    "\n",
    "mlp_clf = MLPClassifier(hidden_layer_sizes=(20,20), activation = 'tanh')\n",
    "\n",
    "a = cross_val_score(mlp_clf, data[:,1:].astype(np.float), Y, cv=kf, n_jobs=-1)\n",
    "b = cross_val_score(mlp_clf, data[:,1:].astype(np.float), Y, cv=kf, scoring = 'precision', n_jobs=-1)\n",
    "c = cross_val_score(mlp_clf, data[:,1:].astype(np.float), Y, cv=kf, scoring = 'f1', n_jobs=-1)\n",
    "d = cross_val_score(mlp_clf, data[:,1:].astype(np.float), Y, cv=kf, scoring = 'recall', n_jobs=-1)\n",
    "\n",
    "print \"accuracy: \", \"average: \", np.mean(a), \"|| std: \", np.std(a)\n",
    "print \"precision: \", \"average: \", np.mean(b), \"|| std: \", np.std(b)\n",
    "print \"f1 score: \", \"average: \", np.mean(c), \"|| std: \", np.std(c)\n",
    "print \"recall: \", \"average: \", np.mean(d), \"|| std: \", np.std(d)"
   ]
  },
  {
   "cell_type": "code",
   "execution_count": 72,
   "metadata": {},
   "outputs": [
    {
     "name": "stdout",
     "output_type": "stream",
     "text": [
      "accuracy:  average:  0.5583697214901321 || std:  0.03409878503891674\n",
      "precision:  average:  0.5513756531161295 || std:  0.10233418857008793\n",
      "f1 score:  average:  0.2769966814356991 || std:  0.19717793252686186\n",
      "recall:  average:  0.6964452432760675 || std:  0.38467882786460494\n"
     ]
    }
   ],
   "source": [
    "#2-1 Use 2 hidden layers with 100 nodes in each layer.\n",
    "\n",
    "mlp_clf = MLPClassifier(hidden_layer_sizes=(100,100))\n",
    "\n",
    "a = cross_val_score(mlp_clf, data[:,1:].astype(np.float), Y, cv=kf, n_jobs=-1)\n",
    "b = cross_val_score(mlp_clf, data[:,1:].astype(np.float), Y, cv=kf, scoring = 'precision', n_jobs=-1)\n",
    "c = cross_val_score(mlp_clf, data[:,1:].astype(np.float), Y, cv=kf, scoring = 'f1', n_jobs=-1)\n",
    "d = cross_val_score(mlp_clf, data[:,1:].astype(np.float), Y, cv=kf, scoring = 'recall', n_jobs=-1)\n",
    "\n",
    "print \"accuracy: \", \"average: \", np.mean(a), \"|| std: \", np.std(a)\n",
    "print \"precision: \", \"average: \", np.mean(b), \"|| std: \", np.std(b)\n",
    "print \"f1 score: \", \"average: \", np.mean(c), \"|| std: \", np.std(c)\n",
    "print \"recall: \", \"average: \", np.mean(d), \"|| std: \", np.std(d)"
   ]
  },
  {
   "cell_type": "code",
   "execution_count": 73,
   "metadata": {},
   "outputs": [
    {
     "name": "stdout",
     "output_type": "stream",
     "text": [
      "accuracy:  average:  0.49215635256340995 || std:  0.03699744800304449\n",
      "precision:  average:  0.5719304138271688 || std:  0.020260475542297315\n",
      "f1 score:  average:  0.3658679941873544 || std:  0.14792935371183827\n",
      "recall:  average:  0.6086499331300402 || std:  0.3339610465997258\n"
     ]
    }
   ],
   "source": [
    "#2-2 Use 2 hidden layers with 100 nodes in each layer. tanh\n",
    "\n",
    "mlp_clf = MLPClassifier(hidden_layer_sizes=(100,100), activation = 'tanh')\n",
    "\n",
    "a = cross_val_score(mlp_clf, data[:,1:].astype(np.float), Y, cv=kf, n_jobs=-1)\n",
    "b = cross_val_score(mlp_clf, data[:,1:].astype(np.float), Y, cv=kf, scoring = 'precision', n_jobs=-1)\n",
    "c = cross_val_score(mlp_clf, data[:,1:].astype(np.float), Y, cv=kf, scoring = 'f1', n_jobs=-1)\n",
    "d = cross_val_score(mlp_clf, data[:,1:].astype(np.float), Y, cv=kf, scoring = 'recall', n_jobs=-1)\n",
    "\n",
    "print \"accuracy: \", \"average: \", np.mean(a), \"|| std: \", np.std(a)\n",
    "print \"precision: \", \"average: \", np.mean(b), \"|| std: \", np.std(b)\n",
    "print \"f1 score: \", \"average: \", np.mean(c), \"|| std: \", np.std(c)\n",
    "print \"recall: \", \"average: \", np.mean(d), \"|| std: \", np.std(d)"
   ]
  },
  {
   "cell_type": "code",
   "execution_count": 74,
   "metadata": {},
   "outputs": [
    {
     "name": "stdout",
     "output_type": "stream",
     "text": [
      "accuracy:  average:  0.5174038028471402 || std:  0.039377233740212535\n",
      "precision:  average:  0.5159633783599658 || std:  0.07523872166145022\n",
      "f1 score:  average:  0.5351989386189608 || std:  0.2627501565401155\n",
      "recall:  average:  0.5186296644380894 || std:  0.40000600358582916\n"
     ]
    }
   ],
   "source": [
    "#3-1 Use 5 hidden layers with 20 nodes in each layer.\n",
    "\n",
    "mlp_clf = MLPClassifier(hidden_layer_sizes=(20,20,20,20,20))\n",
    "\n",
    "a = cross_val_score(mlp_clf, data[:,1:].astype(np.float), Y, cv=kf, n_jobs=-1)\n",
    "b = cross_val_score(mlp_clf, data[:,1:].astype(np.float), Y, cv=kf, scoring = 'precision', n_jobs=-1)\n",
    "c = cross_val_score(mlp_clf, data[:,1:].astype(np.float), Y, cv=kf, scoring = 'f1', n_jobs=-1)\n",
    "d = cross_val_score(mlp_clf, data[:,1:].astype(np.float), Y, cv=kf, scoring = 'recall', n_jobs=-1)\n",
    "\n",
    "print \"accuracy: \", \"average: \", np.mean(a), \"|| std: \", np.std(a)\n",
    "print \"precision: \", \"average: \", np.mean(b), \"|| std: \", np.std(b)\n",
    "print \"f1 score: \", \"average: \", np.mean(c), \"|| std: \", np.std(c)\n",
    "print \"recall: \", \"average: \", np.mean(d), \"|| std: \", np.std(d)"
   ]
  },
  {
   "cell_type": "code",
   "execution_count": 75,
   "metadata": {},
   "outputs": [
    {
     "name": "stdout",
     "output_type": "stream",
     "text": [
      "accuracy:  average:  0.5185918569178349 || std:  0.033853042560212245\n",
      "precision:  average:  0.5022669464672822 || std:  0.0919292117653938\n",
      "f1 score:  average:  0.38406164922033736 || std:  0.29749187362783625\n",
      "recall:  average:  0.5085369300747077 || std:  0.35653292877799025\n"
     ]
    }
   ],
   "source": [
    "#3-2 Use 5 hidden layers with 20 nodes in each layer. tanh\n",
    "\n",
    "mlp_clf = MLPClassifier(hidden_layer_sizes=(20,20,20,20,20), activation = 'tanh')\n",
    "\n",
    "a = cross_val_score(mlp_clf, data[:,1:].astype(np.float), Y, cv=kf, n_jobs=-1)\n",
    "b = cross_val_score(mlp_clf, data[:,1:].astype(np.float), Y, cv=kf, scoring = 'precision', n_jobs=-1)\n",
    "c = cross_val_score(mlp_clf, data[:,1:].astype(np.float), Y, cv=kf, scoring = 'f1', n_jobs=-1)\n",
    "d = cross_val_score(mlp_clf, data[:,1:].astype(np.float), Y, cv=kf, scoring = 'recall', n_jobs=-1)\n",
    "\n",
    "print \"accuracy: \", \"average: \", np.mean(a), \"|| std: \", np.std(a)\n",
    "print \"precision: \", \"average: \", np.mean(b), \"|| std: \", np.std(b)\n",
    "print \"f1 score: \", \"average: \", np.mean(c), \"|| std: \", np.std(c)\n",
    "print \"recall: \", \"average: \", np.mean(d), \"|| std: \", np.std(d)"
   ]
  },
  {
   "cell_type": "code",
   "execution_count": 76,
   "metadata": {},
   "outputs": [
    {
     "name": "stdout",
     "output_type": "stream",
     "text": [
      "accuracy:  average:  0.49886533983045034 || std:  0.03138818272078205\n",
      "precision:  average:  0.5129972676210063 || std:  0.08537713769113725\n",
      "f1 score:  average:  0.27110405625825107 || std:  0.23370484989280613\n",
      "recall:  average:  0.6768182918063971 || std:  0.40923622022696904\n"
     ]
    }
   ],
   "source": [
    "#4-1 Use 5 hidden with 100 nodes in each layer.\n",
    "\n",
    "mlp_clf = MLPClassifier(hidden_layer_sizes=(100,100,100,100,100))\n",
    "\n",
    "a = cross_val_score(mlp_clf, data[:,1:].astype(np.float), Y, cv=kf, n_jobs=-1)\n",
    "b = cross_val_score(mlp_clf, data[:,1:].astype(np.float), Y, cv=kf, scoring = 'precision', n_jobs=-1)\n",
    "c = cross_val_score(mlp_clf, data[:,1:].astype(np.float), Y, cv=kf, scoring = 'f1', n_jobs=-1)\n",
    "d = cross_val_score(mlp_clf, data[:,1:].astype(np.float), Y, cv=kf, scoring = 'recall', n_jobs=-1)\n",
    "\n",
    "\n",
    "print \"accuracy: \", \"average: \", np.mean(a), \"|| std: \", np.std(a)\n",
    "print \"precision: \", \"average: \", np.mean(b), \"|| std: \", np.std(b)\n",
    "print \"f1 score: \", \"average: \", np.mean(c), \"|| std: \", np.std(c)\n",
    "print \"recall: \", \"average: \", np.mean(d), \"|| std: \", np.std(d)"
   ]
  },
  {
   "cell_type": "code",
   "execution_count": 77,
   "metadata": {},
   "outputs": [
    {
     "name": "stdout",
     "output_type": "stream",
     "text": [
      "accuracy:  average:  0.5269159222000399 || std:  0.04104319369244362\n",
      "precision:  average:  0.5759873877260745 || std:  0.08297066363130894\n",
      "f1 score:  average:  0.43957383811214995 || std:  0.2353072343019145\n",
      "recall:  average:  0.4669482692932889 || std:  0.4364697025346039\n"
     ]
    }
   ],
   "source": [
    "#4-2 Use 5 hidden with 100 nodes in each layer. tanh\n",
    "\n",
    "mlp_clf = MLPClassifier(hidden_layer_sizes=(100,100,100,100,100), activation = 'tanh')\n",
    "\n",
    "a = cross_val_score(mlp_clf, data[:,1:].astype(np.float), Y, cv=kf, n_jobs=-1)\n",
    "b = cross_val_score(mlp_clf, data[:,1:].astype(np.float), Y, cv=kf, scoring = 'precision', n_jobs=-1)\n",
    "c = cross_val_score(mlp_clf, data[:,1:].astype(np.float), Y, cv=kf, scoring = 'f1', n_jobs=-1)\n",
    "d = cross_val_score(mlp_clf, data[:,1:].astype(np.float), Y, cv=kf, scoring = 'recall', n_jobs=-1)\n",
    "\n",
    "print \"accuracy: \", \"average: \", np.mean(a), \"|| std: \", np.std(a)\n",
    "print \"precision: \", \"average: \", np.mean(b), \"|| std: \", np.std(b)\n",
    "print \"f1 score: \", \"average: \", np.mean(c), \"|| std: \", np.std(c)\n",
    "print \"recall: \", \"average: \", np.mean(d), \"|| std: \", np.std(d)"
   ]
  },
  {
   "cell_type": "code",
   "execution_count": 78,
   "metadata": {},
   "outputs": [
    {
     "name": "stdout",
     "output_type": "stream",
     "text": [
      "accuracy:  average:  0.514275057685903 || std:  0.04593861109737616\n",
      "precision:  average:  0.1604348593769706 || std:  0.1982026176966755\n",
      "f1 score:  average:  0.24382969035693755 || std:  0.2986379916674196\n",
      "recall:  average:  0.6 || std:  0.48989794855663565\n"
     ]
    }
   ],
   "source": [
    "#task2 Use 5 hidden layers with 100 nodes in each layer.different init raite\n",
    "\n",
    "mlp_clf = MLPClassifier(hidden_layer_sizes=(100,100,100,100,100), learning_rate_init = 0.5)\n",
    "\n",
    "a = cross_val_score(mlp_clf, data[:,1:].astype(np.float), Y, cv=kf, n_jobs=-1)\n",
    "b = cross_val_score(mlp_clf, data[:,1:].astype(np.float), Y, cv=kf, scoring = 'precision', n_jobs=-1)\n",
    "c = cross_val_score(mlp_clf, data[:,1:].astype(np.float), Y, cv=kf, scoring = 'f1', n_jobs=-1)\n",
    "d = cross_val_score(mlp_clf, data[:,1:].astype(np.float), Y, cv=kf, scoring = 'recall', n_jobs=-1)\n",
    "\n",
    "print \"accuracy: \", \"average: \", np.mean(a), \"|| std: \", np.std(a)\n",
    "print \"precision: \", \"average: \", np.mean(b), \"|| std: \", np.std(b)\n",
    "print \"f1 score: \", \"average: \", np.mean(c), \"|| std: \", np.std(c)\n",
    "print \"recall: \", \"average: \", np.mean(d), \"|| std: \", np.std(d)"
   ]
  },
  {
   "cell_type": "code",
   "execution_count": null,
   "metadata": {},
   "outputs": [],
   "source": []
  }
 ],
 "metadata": {
  "kernelspec": {
   "display_name": "Python 2",
   "language": "python",
   "name": "python2"
  },
  "language_info": {
   "codemirror_mode": {
    "name": "ipython",
    "version": 2
   },
   "file_extension": ".py",
   "mimetype": "text/x-python",
   "name": "python",
   "nbconvert_exporter": "python",
   "pygments_lexer": "ipython2",
   "version": "2.7.15"
  }
 },
 "nbformat": 4,
 "nbformat_minor": 2
}
