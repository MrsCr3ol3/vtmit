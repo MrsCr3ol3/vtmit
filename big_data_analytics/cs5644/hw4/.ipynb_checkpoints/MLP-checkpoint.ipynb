{
 "cells": [
  {
   "cell_type": "code",
   "execution_count": 1,
   "metadata": {},
   "outputs": [],
   "source": [
    "import sklearn\n",
    "import sklearn.tree\n",
    "import numpy as np\n",
    "from io import StringIO\n",
    "from sklearn.neural_network import MLPClassifier\n",
    "import warnings\n",
    "warnings.filterwarnings('ignore')"
   ]
  },
  {
   "cell_type": "code",
   "execution_count": 7,
   "metadata": {
    "collapsed": true
   },
   "outputs": [],
   "source": [
    "col_names = \"rain,hot temp.,mild temp.,High Humidity,Strong winds,playTennis\"\n",
    "my_tennis_data = np.array([[0, 1, 0, 1, 0, 0],\n",
    "       [0, 1, 0, 1, 1, 0],\n",
    "       [1, 0, 1, 1, 0, 1],\n",
    "       [1, 0, 0, 0, 0, 1],\n",
    "       [1, 0, 0, 0, 1, 0],\n",
    "       [0, 0, 1, 1, 0, 1],\n",
    "       [0, 0, 0, 0, 0, 1],\n",
    "       [1, 0, 1, 0, 0, 1],\n",
    "       [0, 0, 1, 0, 1, 1],\n",
    "       [1, 0, 1, 1, 1, 0]])\n",
    "\n"
   ]
  },
  {
   "cell_type": "code",
   "execution_count": 8,
   "metadata": {
    "collapsed": true
   },
   "outputs": [],
   "source": [
    "### select all rows except last column\n",
    "X_matrix = my_tennis_data[:, :-1] \n",
    "feature_names = np.array(col_names.split(\",\")[:-1])\n",
    "#feature_names = [\"Outlook\", \"Temp\", \"Humidity\", \"Wind\"]\n",
    "### select last column\n",
    "Y = my_tennis_data[:, -1]\n",
    "label_name = [\"Dont play Tennis\", \"Play Tennis\"]"
   ]
  },
  {
   "cell_type": "code",
   "execution_count": 30,
   "metadata": {},
   "outputs": [
    {
     "data": {
      "text/plain": [
       "MLPClassifier(activation='relu', alpha=0.0001, batch_size='auto', beta_1=0.9,\n",
       "       beta_2=0.999, early_stopping=False, epsilon=1e-08,\n",
       "       hidden_layer_sizes=(10, 4, 5), learning_rate='constant',\n",
       "       learning_rate_init=0.001, max_iter=200, momentum=0.9,\n",
       "       nesterovs_momentum=True, power_t=0.5, random_state=None,\n",
       "       shuffle=True, solver='adam', tol=0.0001, validation_fraction=0.1,\n",
       "       verbose=False, warm_start=False)"
      ]
     },
     "execution_count": 30,
     "metadata": {},
     "output_type": "execute_result"
    }
   ],
   "source": [
    "mlp_clf = MLPClassifier(hidden_layer_sizes=(10,4,5)) # number of hidden layers is passed to the classifier\n",
    "mlp_clf.fit(X_matrix, Y)"
   ]
  },
  {
   "cell_type": "code",
   "execution_count": 31,
   "metadata": {},
   "outputs": [
    {
     "name": "stdout",
     "output_type": "stream",
     "text": [
      "predicted: [1 0]\n",
      "truth [1 0]\n"
     ]
    }
   ],
   "source": [
    "print(\"predicted:\", mlp_clf.predict(X_matrix[-2:,:]))\n",
    "print(\"truth\", Y[-2:])"
   ]
  },
  {
   "cell_type": "code",
   "execution_count": 41,
   "metadata": {},
   "outputs": [
    {
     "name": "stdout",
     "output_type": "stream",
     "text": [
      "Best Loss: 0.579248589498\n",
      "Number of Layers: 5\n",
      "Output Layer Activation: logistic\n",
      "---------------------------------------------------------------------------------------------------------------\n",
      "Shape of the network weights for each layer:\n",
      "The first tuple is basically (number of features,size of the first hidden layer), e.g. (5,10)\n",
      "Second tuple is (size of the first hidden layer, size of the second hidden layer), e.g. (10,4)\n",
      "Third tuple is (size of the second hidden layer, size of the third hidden layer), e.g. (4,5)\n",
      "Lastly last layer will output the result, therefore it's size is (size of the third hidden layer, 1), e.g. (5,1)\n",
      "[(5, 10), (10, 4), (4, 5), (5, 1)]\n",
      "----------------------------------------------------------------------------------------------------------------\n"
     ]
    }
   ],
   "source": [
    "print(\"Best Loss:\", mlp_clf.best_loss_)\n",
    "print(\"Number of Layers:\", mlp_clf.n_layers_)\n",
    "print(\"Output Layer Activation:\", mlp_clf.out_activation_)\n",
    "print(\"---------------------------------------------------------------------------------------------------------------\")\n",
    "print(\"Shape of the network weights for each layer:\")\n",
    "print(\"The first tuple is basically (number of features,size of the first hidden layer), e.g. (5,10)\")\n",
    "print(\"Second tuple is (size of the first hidden layer, size of the second hidden layer), e.g. (10,4)\")\n",
    "print(\"Third tuple is (size of the second hidden layer, size of the third hidden layer), e.g. (4,5)\")\n",
    "print(\"Lastly last layer will output the result, therefore it's size is (size of the third hidden layer, 1), e.g. (5,1)\")\n",
    "print([coef.shape for coef in mlp_clf.coefs_])\n",
    "print(\"----------------------------------------------------------------------------------------------------------------\")"
   ]
  }
 ],
 "metadata": {
  "kernelspec": {
   "display_name": "Python 2",
   "language": "python",
   "name": "python2"
  },
  "language_info": {
   "codemirror_mode": {
    "name": "ipython",
    "version": 2
   },
   "file_extension": ".py",
   "mimetype": "text/x-python",
   "name": "python",
   "nbconvert_exporter": "python",
   "pygments_lexer": "ipython2",
   "version": "2.7.15"
  }
 },
 "nbformat": 4,
 "nbformat_minor": 2
}
