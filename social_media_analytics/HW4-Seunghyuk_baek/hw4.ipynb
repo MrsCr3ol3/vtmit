{
 "cells": [
  {
   "cell_type": "code",
   "execution_count": 1,
   "metadata": {
    "collapsed": true
   },
   "outputs": [],
   "source": [
    "from tweepy import Stream\n",
    "from tweepy import OAuthHandler\n",
    "from tweepy.streaming import StreamListener\n",
    "import json\n",
    "import tweepy\n",
    "\n",
    "consumer_key = \"x\"\n",
    "consumer_secret = \"x\"\n",
    "access_token = \"213935363-x\"\n",
    "access_token_secret = \"x\"\n",
    "auth = tweepy.OAuthHandler(consumer_key, consumer_secret)\n",
    "auth.set_access_token(access_token, access_token_secret)\n",
    "api = tweepy.API(auth,wait_on_rate_limit=True)\n",
    "\n",
    "def get_tweets(api, input_query):\n",
    "    for tweet in tweepy.Cursor(api.search, q=input_query, lang=\"en\").items():\n",
    "        yield tweet\n",
    "\n",
    "input_queries = ['MidtermElections2018','BlueWaveComing2018','RedWaveRising2018']\n",
    "tweets = {}\n",
    "for input_query in input_queries:\n",
    "    tweets[input_query] = get_tweets(api, input_query)"
   ]
  },
  {
   "cell_type": "code",
   "execution_count": 2,
   "metadata": {
    "collapsed": false
   },
   "outputs": [
    {
     "name": "stdout",
     "output_type": "stream",
     "text": [
      "MidtermElections2018\n",
      "counter is now half way\n",
      "finished collectingMidtermElections2018\n",
      "BlueWaveComing2018\n",
      "counter is now half way\n",
      "finished collectingBlueWaveComing2018\n",
      "RedWaveRising2018\n",
      "counter is now half way\n",
      "finished collectingRedWaveRising2018\n"
     ]
    }
   ],
   "source": [
    "from collections import defaultdict\n",
    "import time\n",
    "\n",
    "dataset = defaultdict(list)\n",
    "download_tweet_count = 1000\n",
    "for input_query in input_queries:\n",
    "    print(input_query)\n",
    "    counter = 0\n",
    "    while counter < download_tweet_count:\n",
    "        try:\n",
    "            tweet = tweets[input_query].next()\n",
    "            dataset['topic'].append(input_query)\n",
    "            dataset['id'].append(tweet.id)\n",
    "            # user related information\n",
    "            dataset['username'].append(tweet.author.screen_name)\n",
    "            dataset['name'].append(tweet.author.name)\n",
    "            dataset['user_followers_count'].append(tweet.author.followers_count)\n",
    "            dataset['user_friends_count'].append(tweet.author.friends_count)\n",
    "            # tweet related information\n",
    "            dataset['text'].append(tweet.text)\n",
    "            dataset['created_at'].append(tweet.created_at.strftime(\"%Y-%m-%d %H:%M:%S\"))\n",
    "            dataset['favorite_count'].append(tweet.favorite_count)\n",
    "            dataset['retweet_count'].append(tweet.retweet_count)\n",
    "            # some extracted data from tweet\n",
    "            dataset['hashtags'].append(\n",
    "                ','.join([ht['text'] \n",
    "                          for ht in tweet.entities['hashtags']]))\n",
    "            dataset['mentioned_urls'].append(\n",
    "                ','.join([url['url'] \n",
    "                          for url in tweet.entities['urls']]))\n",
    "            dataset['mentioned_user_ids'].append(\n",
    "                ','.join([mention['id_str'] \n",
    "                          for mention in tweet.entities['user_mentions']]))\n",
    "            dataset['mentioned_user_names'].append(\n",
    "                ','.join([mention['screen_name'] \n",
    "                          for mention in tweet.entities['user_mentions']]))\n",
    "            counter +=1\n",
    "            if counter == 500:\n",
    "                print \"counter is now half way\"\n",
    "            if counter == download_tweet_count:\n",
    "                print(\"finished collecting\" + input_query)\n",
    "                break\n",
    "        except:\n",
    "            print(len(dataset['id']))\n",
    "            print('Sleeping for 15 minutes')\n",
    "            time.sleep(15*60) # sleep for 15 minutes"
   ]
  },
  {
   "cell_type": "code",
   "execution_count": 153,
   "metadata": {
    "collapsed": false
   },
   "outputs": [],
   "source": [
    "import json\n",
    "js = json.dumps(dataset)\n",
    "\n",
    "# Open new json file if not exist it will create\n",
    "fp = open('test.json', 'a')\n",
    "\n",
    "# write to json file\n",
    "fp.write(js)\n",
    "\n",
    "# close the connection\n",
    "fp.close()"
   ]
  },
  {
   "cell_type": "code",
   "execution_count": 67,
   "metadata": {
    "collapsed": false
   },
   "outputs": [
    {
     "data": {
      "text/html": [
       "<div>\n",
       "<table border=\"1\" class=\"dataframe\">\n",
       "  <thead>\n",
       "    <tr style=\"text-align: right;\">\n",
       "      <th></th>\n",
       "      <th>created_at</th>\n",
       "      <th>text</th>\n",
       "      <th>hashtags</th>\n",
       "      <th>username</th>\n",
       "      <th>user_followers_count</th>\n",
       "      <th>topic</th>\n",
       "    </tr>\n",
       "  </thead>\n",
       "  <tbody>\n",
       "    <tr>\n",
       "      <th>2995</th>\n",
       "      <td>2018-04-18 17:52:30</td>\n",
       "      <td>Hell yes! #RedNationRising #RedNation #RedWave...</td>\n",
       "      <td>RedNationRising,RedNation,RedWaveRising,redwav...</td>\n",
       "      <td>PapaMick56</td>\n",
       "      <td>211</td>\n",
       "      <td>RedWaveRising2018</td>\n",
       "    </tr>\n",
       "    <tr>\n",
       "      <th>2996</th>\n",
       "      <td>2018-04-18 17:52:29</td>\n",
       "      <td>RT @jojoh888: Why are you upset the people of ...</td>\n",
       "      <td></td>\n",
       "      <td>mitchiepoo46</td>\n",
       "      <td>4562</td>\n",
       "      <td>RedWaveRising2018</td>\n",
       "    </tr>\n",
       "    <tr>\n",
       "      <th>2997</th>\n",
       "      <td>2018-04-18 17:52:25</td>\n",
       "      <td>RT @jojoh888: .@JerryBrownGov I'm glad Califor...</td>\n",
       "      <td>RedWaveRising,RedWaveRising2018,EndSanctuaryCi...</td>\n",
       "      <td>DebraMMason1</td>\n",
       "      <td>26004</td>\n",
       "      <td>RedWaveRising2018</td>\n",
       "    </tr>\n",
       "    <tr>\n",
       "      <th>2998</th>\n",
       "      <td>2018-04-18 17:52:04</td>\n",
       "      <td>RT @jojoh888: Why are you upset the people of ...</td>\n",
       "      <td></td>\n",
       "      <td>Thomasmccool20</td>\n",
       "      <td>134</td>\n",
       "      <td>RedWaveRising2018</td>\n",
       "    </tr>\n",
       "    <tr>\n",
       "      <th>2999</th>\n",
       "      <td>2018-04-18 17:50:44</td>\n",
       "      <td>Watch out @SenDonnelly ! A big, beautiful trai...</td>\n",
       "      <td>MAGA,RedWaveRising2018</td>\n",
       "      <td>Julie121765</td>\n",
       "      <td>2140</td>\n",
       "      <td>RedWaveRising2018</td>\n",
       "    </tr>\n",
       "  </tbody>\n",
       "</table>\n",
       "</div>"
      ],
      "text/plain": [
       "               created_at                                               text  \\\n",
       "2995  2018-04-18 17:52:30  Hell yes! #RedNationRising #RedNation #RedWave...   \n",
       "2996  2018-04-18 17:52:29  RT @jojoh888: Why are you upset the people of ...   \n",
       "2997  2018-04-18 17:52:25  RT @jojoh888: .@JerryBrownGov I'm glad Califor...   \n",
       "2998  2018-04-18 17:52:04  RT @jojoh888: Why are you upset the people of ...   \n",
       "2999  2018-04-18 17:50:44  Watch out @SenDonnelly ! A big, beautiful trai...   \n",
       "\n",
       "                                               hashtags        username  \\\n",
       "2995  RedNationRising,RedNation,RedWaveRising,redwav...      PapaMick56   \n",
       "2996                                                       mitchiepoo46   \n",
       "2997  RedWaveRising,RedWaveRising2018,EndSanctuaryCi...    DebraMMason1   \n",
       "2998                                                     Thomasmccool20   \n",
       "2999                             MAGA,RedWaveRising2018     Julie121765   \n",
       "\n",
       "      user_followers_count              topic  \n",
       "2995                   211  RedWaveRising2018  \n",
       "2996                  4562  RedWaveRising2018  \n",
       "2997                 26004  RedWaveRising2018  \n",
       "2998                   134  RedWaveRising2018  \n",
       "2999                  2140  RedWaveRising2018  "
      ]
     },
     "execution_count": 67,
     "metadata": {},
     "output_type": "execute_result"
    }
   ],
   "source": [
    "import pandas as pd\n",
    "\n",
    "dt = pd.DataFrame.from_dict(dataset)\n",
    "dt[['created_at','text','hashtags','username','user_followers_count','topic']].tail()"
   ]
  },
  {
   "cell_type": "code",
   "execution_count": 152,
   "metadata": {
    "collapsed": false
   },
   "outputs": [
    {
     "ename": "UnicodeEncodeError",
     "evalue": "'cp949' codec can't encode character u'\\u2728' in position 198: illegal multibyte sequence",
     "output_type": "error",
     "traceback": [
      "\u001b[0;31m---------------------------------------------------------------------------\u001b[0m",
      "\u001b[0;31mUnicodeEncodeError\u001b[0m                        Traceback (most recent call last)",
      "\u001b[0;32m<ipython-input-152-8f5c319dd445>\u001b[0m in \u001b[0;36m<module>\u001b[0;34m()\u001b[0m\n\u001b[1;32m      3\u001b[0m \u001b[1;32mimport\u001b[0m \u001b[0mnumpy\u001b[0m \u001b[1;32mas\u001b[0m \u001b[0mnp\u001b[0m\u001b[1;33m\u001b[0m\u001b[0m\n\u001b[1;32m      4\u001b[0m \u001b[1;33m\u001b[0m\u001b[0m\n\u001b[0;32m----> 5\u001b[0;31m \u001b[0mnp\u001b[0m\u001b[1;33m.\u001b[0m\u001b[0msavetxt\u001b[0m\u001b[1;33m(\u001b[0m\u001b[1;34m'xgboost.txt'\u001b[0m\u001b[1;33m,\u001b[0m \u001b[0mdt\u001b[0m\u001b[1;33m.\u001b[0m\u001b[0mvalues\u001b[0m\u001b[1;33m,\u001b[0m \u001b[0mfmt\u001b[0m\u001b[1;33m=\u001b[0m\u001b[1;34m'%s'\u001b[0m\u001b[1;33m,\u001b[0m \u001b[0mdelimiter\u001b[0m\u001b[1;33m=\u001b[0m\u001b[1;34m\"\\t\"\u001b[0m\u001b[1;33m)\u001b[0m\u001b[1;33m\u001b[0m\u001b[0m\n\u001b[0m",
      "\u001b[0;32mC:\\Program Files\\Anaconda2\\lib\\site-packages\\numpy\\lib\\npyio.pyc\u001b[0m in \u001b[0;36msavetxt\u001b[0;34m(fname, X, fmt, delimiter, newline, header, footer, comments, encoding)\u001b[0m\n\u001b[1;32m   1379\u001b[0m                                     \u001b[1;34m\"format specifier ('%s')\"\u001b[0m\u001b[1;33m\u001b[0m\u001b[0m\n\u001b[1;32m   1380\u001b[0m                                     % (str(X.dtype), format))\n\u001b[0;32m-> 1381\u001b[0;31m                 \u001b[0mfh\u001b[0m\u001b[1;33m.\u001b[0m\u001b[0mwrite\u001b[0m\u001b[1;33m(\u001b[0m\u001b[0mv\u001b[0m\u001b[1;33m)\u001b[0m\u001b[1;33m\u001b[0m\u001b[0m\n\u001b[0m\u001b[1;32m   1382\u001b[0m \u001b[1;33m\u001b[0m\u001b[0m\n\u001b[1;32m   1383\u001b[0m         \u001b[1;32mif\u001b[0m \u001b[0mlen\u001b[0m\u001b[1;33m(\u001b[0m\u001b[0mfooter\u001b[0m\u001b[1;33m)\u001b[0m \u001b[1;33m>\u001b[0m \u001b[1;36m0\u001b[0m\u001b[1;33m:\u001b[0m\u001b[1;33m\u001b[0m\u001b[0m\n",
      "\u001b[0;32mC:\\Program Files\\Anaconda2\\lib\\site-packages\\numpy\\lib\\npyio.pyc\u001b[0m in \u001b[0;36mwrite\u001b[0;34m(self, v)\u001b[0m\n\u001b[1;32m   1280\u001b[0m \u001b[1;33m\u001b[0m\u001b[0m\n\u001b[1;32m   1281\u001b[0m         \u001b[1;32mdef\u001b[0m \u001b[0mwrite\u001b[0m\u001b[1;33m(\u001b[0m\u001b[0mself\u001b[0m\u001b[1;33m,\u001b[0m \u001b[0mv\u001b[0m\u001b[1;33m)\u001b[0m\u001b[1;33m:\u001b[0m\u001b[1;33m\u001b[0m\u001b[0m\n\u001b[0;32m-> 1282\u001b[0;31m             \u001b[0mself\u001b[0m\u001b[1;33m.\u001b[0m\u001b[0mdo_write\u001b[0m\u001b[1;33m(\u001b[0m\u001b[0mv\u001b[0m\u001b[1;33m)\u001b[0m\u001b[1;33m\u001b[0m\u001b[0m\n\u001b[0m\u001b[1;32m   1283\u001b[0m \u001b[1;33m\u001b[0m\u001b[0m\n\u001b[1;32m   1284\u001b[0m         \u001b[1;32mdef\u001b[0m \u001b[0mwrite_bytes\u001b[0m\u001b[1;33m(\u001b[0m\u001b[0mself\u001b[0m\u001b[1;33m,\u001b[0m \u001b[0mv\u001b[0m\u001b[1;33m)\u001b[0m\u001b[1;33m:\u001b[0m\u001b[1;33m\u001b[0m\u001b[0m\n",
      "\u001b[0;32mC:\\Program Files\\Anaconda2\\lib\\site-packages\\numpy\\lib\\npyio.pyc\u001b[0m in \u001b[0;36mfirst_write\u001b[0;34m(self, v)\u001b[0m\n\u001b[1;32m   1293\u001b[0m         \u001b[1;32mdef\u001b[0m \u001b[0mfirst_write\u001b[0m\u001b[1;33m(\u001b[0m\u001b[0mself\u001b[0m\u001b[1;33m,\u001b[0m \u001b[0mv\u001b[0m\u001b[1;33m)\u001b[0m\u001b[1;33m:\u001b[0m\u001b[1;33m\u001b[0m\u001b[0m\n\u001b[1;32m   1294\u001b[0m             \u001b[1;32mtry\u001b[0m\u001b[1;33m:\u001b[0m\u001b[1;33m\u001b[0m\u001b[0m\n\u001b[0;32m-> 1295\u001b[0;31m                 \u001b[0mself\u001b[0m\u001b[1;33m.\u001b[0m\u001b[0mwrite_normal\u001b[0m\u001b[1;33m(\u001b[0m\u001b[0mv\u001b[0m\u001b[1;33m)\u001b[0m\u001b[1;33m\u001b[0m\u001b[0m\n\u001b[0m\u001b[1;32m   1296\u001b[0m                 \u001b[0mself\u001b[0m\u001b[1;33m.\u001b[0m\u001b[0mwrite\u001b[0m \u001b[1;33m=\u001b[0m \u001b[0mself\u001b[0m\u001b[1;33m.\u001b[0m\u001b[0mwrite_normal\u001b[0m\u001b[1;33m\u001b[0m\u001b[0m\n\u001b[1;32m   1297\u001b[0m             \u001b[1;32mexcept\u001b[0m \u001b[0mTypeError\u001b[0m\u001b[1;33m:\u001b[0m\u001b[1;33m\u001b[0m\u001b[0m\n",
      "\u001b[0;32mC:\\Program Files\\Anaconda2\\lib\\site-packages\\numpy\\lib\\npyio.pyc\u001b[0m in \u001b[0;36mwrite_normal\u001b[0;34m(self, v)\u001b[0m\n\u001b[1;32m   1289\u001b[0m \u001b[1;33m\u001b[0m\u001b[0m\n\u001b[1;32m   1290\u001b[0m         \u001b[1;32mdef\u001b[0m \u001b[0mwrite_normal\u001b[0m\u001b[1;33m(\u001b[0m\u001b[0mself\u001b[0m\u001b[1;33m,\u001b[0m \u001b[0mv\u001b[0m\u001b[1;33m)\u001b[0m\u001b[1;33m:\u001b[0m\u001b[1;33m\u001b[0m\u001b[0m\n\u001b[0;32m-> 1291\u001b[0;31m             \u001b[0mself\u001b[0m\u001b[1;33m.\u001b[0m\u001b[0mfh\u001b[0m\u001b[1;33m.\u001b[0m\u001b[0mwrite\u001b[0m\u001b[1;33m(\u001b[0m\u001b[0masunicode\u001b[0m\u001b[1;33m(\u001b[0m\u001b[0mv\u001b[0m\u001b[1;33m)\u001b[0m\u001b[1;33m)\u001b[0m\u001b[1;33m\u001b[0m\u001b[0m\n\u001b[0m\u001b[1;32m   1292\u001b[0m \u001b[1;33m\u001b[0m\u001b[0m\n\u001b[1;32m   1293\u001b[0m         \u001b[1;32mdef\u001b[0m \u001b[0mfirst_write\u001b[0m\u001b[1;33m(\u001b[0m\u001b[0mself\u001b[0m\u001b[1;33m,\u001b[0m \u001b[0mv\u001b[0m\u001b[1;33m)\u001b[0m\u001b[1;33m:\u001b[0m\u001b[1;33m\u001b[0m\u001b[0m\n",
      "\u001b[0;31mUnicodeEncodeError\u001b[0m: 'cp949' codec can't encode character u'\\u2728' in position 198: illegal multibyte sequence"
     ]
    }
   ],
   "source": [
    "import nltk\n",
    "import string\n",
    "import numpy as np\n",
    "\n",
    "np.savetxt('xgboost.txt', dt.values, fmt='%s', delimiter=\"\\t\")  \n"
   ]
  },
  {
   "cell_type": "code",
   "execution_count": 115,
   "metadata": {
    "collapsed": false
   },
   "outputs": [],
   "source": [
    "\n",
    "all_docs = dt['text'].values\n",
    "\n",
    "import re\n",
    "\n",
    "try:\n",
    "    # Wide UCS-4 build\n",
    "    myre = re.compile(u\"(\\ud83d[\\ude00-\\ude4f])|\"  # emoticons\n",
    "        u\"(\\ud83c[\\udf00-\\uffff])|\"  # symbols & pictographs (1 of 2)\n",
    "        u\"(\\ud83d[\\u0000-\\uddff])|\"  # symbols & pictographs (2 of 2)\n",
    "        u\"(\\ud83d[\\ude80-\\udeff])|\"  # transport & map symbols\n",
    "        u\"(\\ud83c[\\udde0-\\uddff])\"  # flags (iOS)\n",
    "        \"+\", flags=re.UNICODE)\n",
    "except re.error:\n",
    "    # Narrow UCS-2 build\n",
    "    myre = re.compile(u'('\n",
    "        u'\\ud83c[\\udf00-\\udfff]|'\n",
    "        u'\\ud83d[\\udc00-\\ude4f\\ude80-\\udeff]|'\n",
    "        u'[\\u2600-\\u26FF\\u2700-\\u27BF])+', \n",
    "        re.UNICODE)\n",
    "\n",
    "for doc in all_docs:\n",
    "    doc = myre.sub(r'', doc)\n",
    "    doc.decode('unicode_escape').encode('ascii','ignore') \n",
    "    \n"
   ]
  },
  {
   "cell_type": "code",
   "execution_count": 133,
   "metadata": {
    "collapsed": false
   },
   "outputs": [],
   "source": [
    "from nltk.tokenize import TweetTokenizer\n",
    "\n",
    "\n",
    "\n",
    "\n",
    "#exclude = set(string.punctuation)\n",
    "tokenized = []\n",
    "tokenizer = TweetTokenizer()\n",
    "for doc in all_docs:\n",
    "    tokens = tokenizer.tokenize(doc.lower())\n",
    "    tokenized.append(''.join([ch for ch in ' '.join(tokens) if ch not in exclude]).split())\n",
    "print(tokenized[2])"
   ]
  },
  {
   "cell_type": "code",
   "execution_count": 134,
   "metadata": {
    "collapsed": false
   },
   "outputs": [],
   "source": [
    "from nltk.corpus import stopwords\n",
    "\n",
    "sws = set(stopwords.words('english'))\n",
    "sws.add('rt') # Tweet specific stop-words\n",
    "sws_removed = []\n",
    "for j,sent in enumerate(tokenized):\n",
    "    sws_removed.append([i for i in sent if i not in sws])\n",
    "print(sws_removed[2])"
   ]
  },
  {
   "cell_type": "code",
   "execution_count": null,
   "metadata": {
    "collapsed": true
   },
   "outputs": [],
   "source": []
  },
  {
   "cell_type": "code",
   "execution_count": 118,
   "metadata": {
    "collapsed": false
   },
   "outputs": [],
   "source": [
    "from nltk.stem.porter import *\n",
    "stemmer = PorterStemmer()\n",
    "stemmerized=[]\n",
    "for j,sent in enumerate(sws_removed):\n",
    "    stemmerized.append([stemmer.stem(i) for i in sent ])"
   ]
  },
  {
   "cell_type": "code",
   "execution_count": 139,
   "metadata": {
    "collapsed": false
   },
   "outputs": [],
   "source": [
    "import warnings\n",
    "warnings.filterwarnings(action='ignore', category=UserWarning, module='gensim')\n",
    "\n",
    "import gensim\n",
    "\n",
    "from gensim import corpora, models\n",
    "dictionary = corpora.Dictionary(tokenized)"
   ]
  },
  {
   "cell_type": "code",
   "execution_count": 140,
   "metadata": {
    "collapsed": true
   },
   "outputs": [],
   "source": [
    "corpus = [dictionary.doc2bow(text) for text in tokenized]"
   ]
  },
  {
   "cell_type": "code",
   "execution_count": 109,
   "metadata": {
    "collapsed": false
   },
   "outputs": [],
   "source": [
    "print(corpus[2])"
   ]
  },
  {
   "cell_type": "code",
   "execution_count": 141,
   "metadata": {
    "collapsed": true
   },
   "outputs": [],
   "source": [
    "ldamodel = models.ldamodel.LdaModel(corpus, num_topics=3, id2word = dictionary, passes=20)"
   ]
  },
  {
   "cell_type": "code",
   "execution_count": 122,
   "metadata": {
    "collapsed": false
   },
   "outputs": [],
   "source": [
    "print(ldamodel.print_topics(num_topics=3, num_words=4))"
   ]
  },
  {
   "cell_type": "code",
   "execution_count": 123,
   "metadata": {
    "collapsed": false
   },
   "outputs": [],
   "source": [
    "print(ldamodel.print_topics(num_topics=2, num_words=4))"
   ]
  },
  {
   "cell_type": "code",
   "execution_count": 142,
   "metadata": {
    "collapsed": false
   },
   "outputs": [],
   "source": [
    "print(ldamodel.print_topics(num_topics=3, num_words=10))"
   ]
  },
  {
   "cell_type": "code",
   "execution_count": 97,
   "metadata": {
    "collapsed": false
   },
   "outputs": [],
   "source": [
    "from collections import Counter\n",
    "hashtag_counter = Counter()\n",
    "for hts in dt['hashtags'].values:\n",
    "    hts = hts.split(',')\n",
    "    hashtag_counter.update(hts)\n",
    "\n",
    "import operator\n",
    "sorted_cntr = sorted(hashtag_counter.items(), key=operator.itemgetter(1),reverse=True)\n",
    "print(sorted_cntr[0:11])"
   ]
  },
  {
   "cell_type": "code",
   "execution_count": 40,
   "metadata": {
    "collapsed": true
   },
   "outputs": [],
   "source": [
    "midtermtopic_dt = dt[dt['topic'] == 'MidtermElections2018']"
   ]
  },
  {
   "cell_type": "code",
   "execution_count": 41,
   "metadata": {
    "collapsed": false
   },
   "outputs": [
    {
     "name": "stdout",
     "output_type": "stream",
     "text": [
      "[(u'Midterms2018', 474), (u'RedWaveRising2018', 474), (u'RedWaveRising', 474), ('', 473), (u'MidtermElections2018', 14), (u'midtermelections2018', 10), (u'farmers', 8), (u'JamesComey', 8), (u'Midterms', 8), (u'tariffs', 8), (u'ItsMuellerTime', 7)]\n"
     ]
    }
   ],
   "source": [
    "hashtag_counter_midterm = Counter()\n",
    "for hts in midtermtopic_dt['hashtags'].values:\n",
    "    hts = hts.split(',')\n",
    "    hashtag_counter_midterm.update(hts)\n",
    "\n",
    "import operator\n",
    "sorted_cntr = sorted(hashtag_counter_midterm.items(), key=operator.itemgetter(1),reverse=True)\n",
    "print(sorted_cntr[0:11])"
   ]
  },
  {
   "cell_type": "code",
   "execution_count": 42,
   "metadata": {
    "collapsed": true
   },
   "outputs": [],
   "source": [
    "bluewavetopic_dt = dt[dt['topic'].str.contains('BlueWaveComing2018')]"
   ]
  },
  {
   "cell_type": "code",
   "execution_count": 43,
   "metadata": {
    "collapsed": false
   },
   "outputs": [
    {
     "name": "stdout",
     "output_type": "stream",
     "text": [
      "[('', 466), (u'BlueWaveComing2018', 293), (u'FlipItBlue', 91), (u'RedtoBlue', 89), (u'FollowBackResistance', 63), (u'Democrats', 50), (u'VoteThemOut', 22), (u'VoteBlue', 19), (u'BlueWave2018', 15), (u'FBRParty', 14), (u'bluewave', 14)]\n"
     ]
    }
   ],
   "source": [
    "hashtag_counter_bluewave = Counter()\n",
    "for hts in bluewavetopic_dt['hashtags'].values:\n",
    "    hts = hts.split(',')\n",
    "    hashtag_counter_bluewave.update(hts)\n",
    "\n",
    "import operator\n",
    "sorted_cntr = sorted(hashtag_counter_bluewave.items(), key=operator.itemgetter(1),reverse=True)\n",
    "print(sorted_cntr[0:11])"
   ]
  },
  {
   "cell_type": "code",
   "execution_count": 44,
   "metadata": {
    "collapsed": true
   },
   "outputs": [],
   "source": [
    "redwavetopic_dt = dt[dt['topic'].str.contains('RedWaveRising2018')]"
   ]
  },
  {
   "cell_type": "code",
   "execution_count": 45,
   "metadata": {
    "collapsed": false
   },
   "outputs": [
    {
     "name": "stdout",
     "output_type": "stream",
     "text": [
      "[('', 528), (u'RedWaveRising2018', 265), (u'RINO', 92), (u'MAGA', 63), (u'Beto', 49), (u'RedWaveRising', 30), (u'WednesdayWisdom', 27), (u'AmericaFirst', 20), (u'Trump2020', 19), (u'BlueWave2018', 17), (u'Democrats', 17)]\n"
     ]
    }
   ],
   "source": [
    "hashtag_counter_redwave = Counter()\n",
    "for hts in redwavetopic_dt['hashtags'].values:\n",
    "    hts = hts.split(',')\n",
    "    hashtag_counter_redwave.update(hts)\n",
    "\n",
    "import operator\n",
    "sorted_cntr = sorted(hashtag_counter_redwave.items(), key=operator.itemgetter(1),reverse=True)\n",
    "print(sorted_cntr[0:11])"
   ]
  },
  {
   "cell_type": "code",
   "execution_count": 46,
   "metadata": {
    "collapsed": true
   },
   "outputs": [],
   "source": [
    "import nltk\n",
    "\n",
    "def format_sentence(sent):\n",
    "    return({word: True for word in nltk.word_tokenize(sent)})\n",
    "\n",
    "import sys\n",
    "reload(sys)\n",
    "sys.setdefaultencoding(\"utf-8\")\n",
    "\n",
    "post = []\n",
    "with open(\"./pos_tweets.txt\") as f:\n",
    "    for i in f: \n",
    "        post.append([format_sentence(i), 'pos'])\n",
    "        \n",
    "negt = []\n",
    "with open(\"./neg_tweets.txt\") as f:\n",
    "    for i in f: \n",
    "        negt.append([format_sentence(i), 'neg'])\n",
    "        \n",
    "training = post[:int((.8)*len(post))] + negt[:int((.8)*len(negt))]\n",
    "test = post[int((.8)*len(post)):] + negt[int((.8)*len(negt)):]\n",
    "\n"
   ]
  },
  {
   "cell_type": "code",
   "execution_count": 47,
   "metadata": {
    "collapsed": true
   },
   "outputs": [],
   "source": [
    "from nltk.classify import NaiveBayesClassifier\n",
    "\n",
    "classifier = NaiveBayesClassifier.train(training)"
   ]
  },
  {
   "cell_type": "code",
   "execution_count": 48,
   "metadata": {
    "collapsed": true
   },
   "outputs": [],
   "source": [
    "classifier.show_most_informative_features()"
   ]
  },
  {
   "cell_type": "code",
   "execution_count": 49,
   "metadata": {
    "collapsed": true
   },
   "outputs": [],
   "source": [
    "example1 = \"Twilio is an awesome company!\"\n",
    "\n",
    "print classifier.classify(format_sentence(example1))"
   ]
  },
  {
   "cell_type": "code",
   "execution_count": 50,
   "metadata": {
    "collapsed": true
   },
   "outputs": [],
   "source": [
    "pos_count = 0\n",
    "neg_count = 0\n",
    "for index, row in dt.iterrows():\n",
    "    if classifier.classify(format_sentence(row['text'])) == \"pos\":\n",
    "        pos_count += 1\n",
    "    elif classifier.classify(format_sentence(row['text'])) == \"neg\":\n",
    "        neg_count += 1\n",
    "\n",
    "print \"this is pos coutn for all topic: \", pos_count\n",
    "print \"this is neg coutn for all topic: \", neg_count"
   ]
  },
  {
   "cell_type": "code",
   "execution_count": 51,
   "metadata": {
    "collapsed": true
   },
   "outputs": [],
   "source": [
    "pos_count = 0\n",
    "neg_count = 0\n",
    "for index, row in midtermtopic_dt.iterrows():\n",
    "    if classifier.classify(format_sentence(row['text'])) == \"pos\":\n",
    "        pos_count += 1\n",
    "    elif classifier.classify(format_sentence(row['text'])) == \"neg\":\n",
    "        neg_count += 1\n",
    "\n",
    "print \"this is pos coutn for midterm topic: \", pos_count\n",
    "print \"this is neg coutn for midterm topic: \", neg_count"
   ]
  },
  {
   "cell_type": "code",
   "execution_count": 52,
   "metadata": {
    "collapsed": false
   },
   "outputs": [],
   "source": [
    "pos_count = 0\n",
    "neg_count = 0\n",
    "for index, row in bluewavetopic_dt.iterrows():\n",
    "    if classifier.classify(format_sentence(row['text'])) == \"pos\":\n",
    "        pos_count += 1\n",
    "    elif classifier.classify(format_sentence(row['text'])) == \"neg\":\n",
    "        neg_count += 1\n",
    "\n",
    "print \"this is pos coutn for bluewave topic: \", pos_count\n",
    "print \"this is neg coutn for bluewave topic: \", neg_count"
   ]
  },
  {
   "cell_type": "code",
   "execution_count": 53,
   "metadata": {
    "collapsed": true
   },
   "outputs": [],
   "source": [
    "pos_count = 0\n",
    "neg_count = 0\n",
    "for index, row in redwavetopic_dt.iterrows():\n",
    "    if classifier.classify(format_sentence(row['text'])) == \"pos\":\n",
    "        pos_count += 1\n",
    "    elif classifier.classify(format_sentence(row['text'])) == \"neg\":\n",
    "        neg_count += 1\n",
    "\n",
    "print \"this is pos coutn for redwave topic: \", pos_count\n",
    "print \"this is neg coutn for redwave topic: \", neg_count"
   ]
  }
 ],
 "metadata": {
  "anaconda-cloud": {},
  "kernelspec": {
   "display_name": "Python [conda root]",
   "language": "python",
   "name": "conda-root-py"
  },
  "language_info": {
   "codemirror_mode": {
    "name": "ipython",
    "version": 2
   },
   "file_extension": ".py",
   "mimetype": "text/x-python",
   "name": "python",
   "nbconvert_exporter": "python",
   "pygments_lexer": "ipython2",
   "version": "2.7.12"
  }
 },
 "nbformat": 4,
 "nbformat_minor": 1
}
