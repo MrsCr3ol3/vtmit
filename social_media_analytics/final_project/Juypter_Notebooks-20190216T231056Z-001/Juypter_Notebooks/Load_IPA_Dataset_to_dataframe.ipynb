{
 "cells": [
  {
   "cell_type": "code",
   "execution_count": 1,
   "metadata": {
    "collapsed": true
   },
   "outputs": [],
   "source": [
    "import time\n",
    "from collections import defaultdict\n",
    "import pandas as pd\n",
    "from collections import OrderedDict\n",
    "from datetime import date"
   ]
  },
  {
   "cell_type": "code",
   "execution_count": 3,
   "metadata": {},
   "outputs": [
    {
     "name": "stdout",
     "output_type": "stream",
     "text": [
      "Number of Tweets: 5951\n"
     ]
    }
   ],
   "source": [
    "# Load in all of the extract files into separate data frames\n",
    "df = pd.read_csv('C:\\data\\CS5664\\IPA_Teets_ALL.csv')\n",
    "print \"Number of Tweets: \" + str(df[\"id\"].size)"
   ]
  },
  {
   "cell_type": "code",
   "execution_count": null,
   "metadata": {
    "collapsed": true
   },
   "outputs": [],
   "source": []
  }
 ],
 "metadata": {
  "kernelspec": {
   "display_name": "Python 2",
   "language": "python",
   "name": "python2"
  },
  "language_info": {
   "codemirror_mode": {
    "name": "ipython",
    "version": 2
   },
   "file_extension": ".py",
   "mimetype": "text/x-python",
   "name": "python",
   "nbconvert_exporter": "python",
   "pygments_lexer": "ipython2",
   "version": "2.7.14"
  }
 },
 "nbformat": 4,
 "nbformat_minor": 2
}
