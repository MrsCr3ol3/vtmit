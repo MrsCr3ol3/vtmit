{
 "cells": [
  {
   "cell_type": "code",
   "execution_count": 65,
   "metadata": {
    "collapsed": true
   },
   "outputs": [],
   "source": [
    "import time\n",
    "from collections import defaultdict\n",
    "import pandas as pd\n",
    "from collections import OrderedDict\n",
    "from datetime import date"
   ]
  },
  {
   "cell_type": "code",
   "execution_count": 66,
   "metadata": {
    "collapsed": true
   },
   "outputs": [],
   "source": [
    "# Load in all of the extract files into separate data frames\n",
    "df1 = pd.read_csv('C:\\data\\CS5664\\IPA_Teets_1.csv')\n",
    "df2 = pd.read_csv('C:\\data\\CS5664\\IPA_Teets_2.csv')\n",
    "df3 = pd.read_csv('C:\\data\\CS5664\\IPA_Teets_3.csv')\n",
    "df4 = pd.read_csv('C:\\data\\CS5664\\IPA_Teets_4.csv')\n",
    "df5 = pd.read_csv('C:\\data\\CS5664\\IPA_Teets_5.csv')\n",
    "df6 = pd.read_csv('C:\\data\\CS5664\\IPA_Teets_6.csv')\n",
    "df7 = pd.read_csv('C:\\data\\CS5664\\IPATweets1.csv')\n",
    "df8 = pd.read_csv('C:\\data\\CS5664\\IPATweets1.csv')"
   ]
  },
  {
   "cell_type": "code",
   "execution_count": 68,
   "metadata": {},
   "outputs": [
    {
     "name": "stdout",
     "output_type": "stream",
     "text": [
      "Total Records: 9728\n"
     ]
    }
   ],
   "source": [
    "# Merge all of the data into a single dataframe\n",
    "all_frames = [df1, df2, df3, df4, df5, df6, df7, df8]\n",
    "df_all = pd.concat(all_frames)\n",
    "print \"Total Records: \" + str(df_all[\"id\"].size)"
   ]
  },
  {
   "cell_type": "code",
   "execution_count": 70,
   "metadata": {},
   "outputs": [
    {
     "name": "stdout",
     "output_type": "stream",
     "text": [
      "Unique Records: 5951\n"
     ]
    }
   ],
   "source": [
    "# Eliminate duplicates by the twitter ID\n",
    "df = df_all.drop_duplicates(subset=\"id\")\n",
    "print \"Unique Records: \" + str(df[\"id\"].size)"
   ]
  },
  {
   "cell_type": "code",
   "execution_count": 71,
   "metadata": {},
   "outputs": [],
   "source": [
    "# Save merged dataset\n",
    "df.to_csv(\"C:\\Data\\CS5664\\IPA_Teets_ALL.csv\", encoding='utf8')\n"
   ]
  }
 ],
 "metadata": {
  "kernelspec": {
   "display_name": "Python 2",
   "language": "python",
   "name": "python2"
  },
  "language_info": {
   "codemirror_mode": {
    "name": "ipython",
    "version": 2
   },
   "file_extension": ".py",
   "mimetype": "text/x-python",
   "name": "python",
   "nbconvert_exporter": "python",
   "pygments_lexer": "ipython2",
   "version": "2.7.14"
  }
 },
 "nbformat": 4,
 "nbformat_minor": 2
}
