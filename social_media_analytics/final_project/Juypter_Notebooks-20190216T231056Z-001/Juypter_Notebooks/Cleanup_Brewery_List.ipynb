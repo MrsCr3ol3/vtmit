{
 "cells": [
  {
   "cell_type": "code",
   "execution_count": 1,
   "metadata": {
    "collapsed": true
   },
   "outputs": [],
   "source": [
    "import time\n",
    "from collections import defaultdict\n",
    "import pandas as pd\n",
    "from collections import OrderedDict\n",
    "from datetime import date\n",
    "import string\n",
    "import nltk\n",
    "from nltk.corpus import stopwords\n",
    "# from tweepy import Stream\n",
    "# from tweepy import OAuthHandler\n",
    "# from tweepy.streaming import StreamListener\n",
    "import json\n",
    "import tweepy\n",
    "from nltk.tokenize import TweetTokenizer"
   ]
  },
  {
   "cell_type": "code",
   "execution_count": 5,
   "metadata": {},
   "outputs": [],
   "source": [
    "# df_beers = pd.read_csv('C:\\Data\\CS5664\\craft_breweries_list.txt')\n",
    "text_file = open(\"C:\\Data\\CS5664\\craft_breweries_list.txt\", \"r\")\n",
    "lines = text_file.readlines()\n"
   ]
  },
  {
   "cell_type": "code",
   "execution_count": 18,
   "metadata": {},
   "outputs": [
    {
     "name": "stdout",
     "output_type": "stream",
     "text": [
      "['Norfork Brewing Company\\n', 'Norfork, AR 72658-9630\\n', 'Phone: (918) 706-6082\\n', 'Type: Planning\\n', 'BA Associate Member\\n', \"The Beer'd Brewing Company\\n\", '22 Bayview Ave Ste 15\\n', 'Stonington, CT 06378-1143 | Map\\n', 'Phone: (860) 213-9307\\n', 'Type: Micro\\n', 'www.beerdbrewing.com\\n', 'Independent Craft Brewers SealBrewers Association Member\\n', '(405) Brewing Co\\n', '1716 Topeka St\\n', 'Norman, OK 73069-8224 | Map\\n', 'Phone: (405) 816-0490\\n', 'Type: Micro\\n', 'www.405brewing.com\\n', 'Independent Craft Brewers SealBrewers Association Member\\n', '(512) Brewing Co\\n']\n"
     ]
    }
   ],
   "source": [
    "print lines[0:20]"
   ]
  },
  {
   "cell_type": "code",
   "execution_count": 58,
   "metadata": {},
   "outputs": [],
   "source": [
    "breweries = []\n",
    "breweryLineCount = 0\n",
    "for line in lines:\n",
    "    isBrewery = 1\n",
    "    if 'Phone' in line:\n",
    "        isBrewery = 0\n",
    "    if 'Type' in line:\n",
    "        isBrewery = 0\n",
    "    if 'www' in line:\n",
    "        isBrewery = 0\n",
    "    if 'com' in line:\n",
    "        isBrewery = 0\n",
    "    if 'Member' in line:\n",
    "        isBrewery = 0\n",
    "#    if 'Ave' in line:\n",
    "#        isBrewery = 0\n",
    "#    if 'St' in line:\n",
    "#        isBrewery = 0\n",
    "    if 'Ownership' in line:\n",
    "        isBrewery = 0\n",
    "    if 'ownership' in line:\n",
    "        isBrewery = 0\n",
    "    if 'Seal' in line:\n",
    "        isBrewery = 0\n",
    "#    if 'PO' in line:\n",
    "#        isBrewery = 0\n",
    "    \n",
    "    breweryLineCount = breweryLineCount + 1\n",
    "#    print breweryLineCount\n",
    "    if (breweryLineCount == 1):\n",
    "        isBrewery = 0\n",
    "        \n",
    "    if (breweryLineCount == 2):\n",
    "        isBrewery = 0\n",
    "    if (isBrewery == 1):\n",
    "        breweryLineCount = 0\n",
    "        breweries.append(line.strip())\n",
    "#        print \"Y:\" + line.strip()\n",
    "\n",
    "\n",
    "# print breweries"
   ]
  },
  {
   "cell_type": "code",
   "execution_count": 63,
   "metadata": {},
   "outputs": [],
   "source": [
    "# df_breweries = pd.DataFrame(breweries)\n",
    "outFile = open('C:\\Data\\CS5664\\Brewery_List.csv', 'w')\n",
    "for brewery in breweries:\n",
    "  outFile.write(\"%s\\n\" % brewery)\n",
    "\n",
    "outFile.close()"
   ]
  },
  {
   "cell_type": "code",
   "execution_count": null,
   "metadata": {
    "collapsed": true
   },
   "outputs": [],
   "source": []
  }
 ],
 "metadata": {
  "kernelspec": {
   "display_name": "Python 2",
   "language": "python",
   "name": "python2"
  },
  "language_info": {
   "codemirror_mode": {
    "name": "ipython",
    "version": 2
   },
   "file_extension": ".py",
   "mimetype": "text/x-python",
   "name": "python",
   "nbconvert_exporter": "python",
   "pygments_lexer": "ipython2",
   "version": "2.7.14"
  }
 },
 "nbformat": 4,
 "nbformat_minor": 2
}
