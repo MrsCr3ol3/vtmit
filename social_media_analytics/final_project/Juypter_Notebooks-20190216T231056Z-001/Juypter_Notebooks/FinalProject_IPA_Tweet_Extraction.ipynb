{
 "cells": [
  {
   "cell_type": "code",
   "execution_count": 1,
   "metadata": {
    "collapsed": true
   },
   "outputs": [],
   "source": [
    "import tweepy\n",
    "import time\n",
    "from collections import defaultdict\n",
    "from tweepy import TweepError\n",
    "import pandas as pd\n",
    "from collections import OrderedDict\n",
    "from datetime import date"
   ]
  },
  {
   "cell_type": "code",
   "execution_count": 2,
   "metadata": {
    "collapsed": true
   },
   "outputs": [],
   "source": [
    "consumer_key = \"PiUnVOmweyZomcVM0J4D9LFWF\"\n",
    "consumer_secret = \"aixiXFWs4aKOvOIYGHhWb8jdyBUW8tMvYdQXwvAAG7vGrozH6B\"\n",
    "access_token = \"975360339616387073-DwcCgTI1vrKyrf2f3H4k87xQQ4NeGs6\"\n",
    "access_token_secret = \"QW64PfwiwwO7QxSEawc2fzBH8CHfbGpV9UQx7lP55KFp4\"\n",
    "auth = tweepy.OAuthHandler(consumer_key, consumer_secret)\n",
    "auth.set_access_token(access_token, access_token_secret)\n",
    "api = tweepy.API(auth)"
   ]
  },
  {
   "cell_type": "code",
   "execution_count": 3,
   "metadata": {
    "collapsed": true
   },
   "outputs": [],
   "source": [
    "def get_tweets(api, input_query):\n",
    "    for tweet in tweepy.Cursor(api.search, q=input_query, lang=\"en\").items():\n",
    "        yield tweet\n",
    "\n",
    "input_queries = ['IPA']\n",
    "tweets = {}\n",
    "for input_query in input_queries:\n",
    "    tweets[input_query] = get_tweets(api, input_query)"
   ]
  },
  {
   "cell_type": "code",
   "execution_count": null,
   "metadata": {},
   "outputs": [
    {
     "name": "stdout",
     "output_type": "stream",
     "text": [
      "IPA\n",
      "700\n",
      "Sleeping for 15 minutes\n",
      "700\n",
      "Sleeping for 15 minutes\n",
      "700\n",
      "Sleeping for 15 minutes\n",
      "700\n",
      "Sleeping for 15 minutes\n",
      "700\n",
      "Sleeping for 15 minutes\n",
      "700\n",
      "Sleeping for 15 minutes\n"
     ]
    }
   ],
   "source": [
    "dataset = defaultdict(list)\n",
    "download_tweet_count = 1000\n",
    "for input_query in input_queries:\n",
    "    print(input_query)\n",
    "    counter = 0\n",
    "    while counter < download_tweet_count:\n",
    "        try:\n",
    "            tweet = tweets[input_query].next()\n",
    "            dataset['topic'].append(input_query)\n",
    "            dataset['id'].append(tweet.id)\n",
    "            # user related information\n",
    "            dataset['username'].append(tweet.author.screen_name)\n",
    "            dataset['name'].append(tweet.author.name)\n",
    "            dataset['user_followers_count'].append(tweet.author.followers_count)\n",
    "            dataset['user_friends_count'].append(tweet.author.friends_count)\n",
    "            # tweet related information\n",
    "            dataset['text'].append(tweet.text)\n",
    "            dataset['created_at'].append(tweet.created_at.strftime(\"%Y-%m-%d %H:%M:%S\"))\n",
    "            dataset['favorite_count'].append(tweet.favorite_count)\n",
    "            dataset['retweet_count'].append(tweet.retweet_count)\n",
    "            # some extracted data from tweet\n",
    "            dataset['hashtags'].append(\n",
    "                ','.join([ht['text'] \n",
    "                          for ht in tweet.entities['hashtags']]))\n",
    "            dataset['mentioned_urls'].append(\n",
    "                ','.join([url['url'] \n",
    "                          for url in tweet.entities['urls']]))\n",
    "            dataset['mentioned_user_ids'].append(\n",
    "                ','.join([mention['id_str'] \n",
    "                          for mention in tweet.entities['user_mentions']]))\n",
    "            dataset['mentioned_user_names'].append(\n",
    "                ','.join([mention['screen_name'] \n",
    "                          for mention in tweet.entities['user_mentions']]))\n",
    "            counter +=1\n",
    "            if counter == download_tweet_count:\n",
    "                break\n",
    "        except:\n",
    "            print(len(dataset['id']))\n",
    "            print('Sleeping for 15 minutes')\n",
    "            time.sleep(15*60) # sleep for 15 minutes"
   ]
  },
  {
   "cell_type": "code",
   "execution_count": 9,
   "metadata": {
    "collapsed": true
   },
   "outputs": [],
   "source": [
    "df = pd.DataFrame.from_dict(dataset, orient='columns', dtype=None)"
   ]
  },
  {
   "cell_type": "code",
   "execution_count": 10,
   "metadata": {},
   "outputs": [
    {
     "name": "stdout",
     "output_type": "stream",
     "text": [
      "1000\n"
     ]
    }
   ],
   "source": [
    "print df[\"text\"].size"
   ]
  },
  {
   "cell_type": "code",
   "execution_count": 11,
   "metadata": {
    "collapsed": true
   },
   "outputs": [],
   "source": [
    "df.to_csv(\"C:\\Data\\CS5664\\IPA_Teets_6.csv\", encoding='utf8')"
   ]
  },
  {
   "cell_type": "code",
   "execution_count": null,
   "metadata": {
    "collapsed": true
   },
   "outputs": [],
   "source": []
  }
 ],
 "metadata": {
  "kernelspec": {
   "display_name": "Python 2",
   "language": "python",
   "name": "python2"
  },
  "language_info": {
   "codemirror_mode": {
    "name": "ipython",
    "version": 2
   },
   "file_extension": ".py",
   "mimetype": "text/x-python",
   "name": "python",
   "nbconvert_exporter": "python",
   "pygments_lexer": "ipython2",
   "version": "2.7.14"
  }
 },
 "nbformat": 4,
 "nbformat_minor": 2
}
